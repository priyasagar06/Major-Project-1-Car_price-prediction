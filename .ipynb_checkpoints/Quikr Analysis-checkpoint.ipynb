{
 "cells": [
  {
   "cell_type": "code",
   "execution_count": 19,
   "metadata": {},
   "outputs": [],
   "source": [
    "import pandas as pd\n",
    "import numpy as np\n",
    "import matplotlib.pyplot as plt\n",
    "import matplotlib as mpl\n",
    "%matplotlib inline\n",
    "mpl.style.use('ggplot')\n",
    "import warnings\n",
    "warnings.filterwarnings(\"ignore\")"
   ]
  },
  {
   "cell_type": "code",
   "execution_count": 69,
   "metadata": {},
   "outputs": [],
   "source": [
    "car=pd.read_csv('quikr_car.csv')"
   ]
  },
  {
   "cell_type": "code",
   "execution_count": 70,
   "metadata": {},
   "outputs": [
    {
     "data": {
      "text/html": [
       "<div>\n",
       "<style scoped>\n",
       "    .dataframe tbody tr th:only-of-type {\n",
       "        vertical-align: middle;\n",
       "    }\n",
       "\n",
       "    .dataframe tbody tr th {\n",
       "        vertical-align: top;\n",
       "    }\n",
       "\n",
       "    .dataframe thead th {\n",
       "        text-align: right;\n",
       "    }\n",
       "</style>\n",
       "<table border=\"1\" class=\"dataframe\">\n",
       "  <thead>\n",
       "    <tr style=\"text-align: right;\">\n",
       "      <th></th>\n",
       "      <th>name</th>\n",
       "      <th>company</th>\n",
       "      <th>year</th>\n",
       "      <th>Price</th>\n",
       "      <th>kms_driven</th>\n",
       "      <th>fuel_type</th>\n",
       "    </tr>\n",
       "  </thead>\n",
       "  <tbody>\n",
       "    <tr>\n",
       "      <th>0</th>\n",
       "      <td>Hyundai Santro Xing XO eRLX Euro III</td>\n",
       "      <td>Hyundai</td>\n",
       "      <td>2007</td>\n",
       "      <td>80,000</td>\n",
       "      <td>45,000 kms</td>\n",
       "      <td>Petrol</td>\n",
       "    </tr>\n",
       "    <tr>\n",
       "      <th>1</th>\n",
       "      <td>Mahindra Jeep CL550 MDI</td>\n",
       "      <td>Mahindra</td>\n",
       "      <td>2006</td>\n",
       "      <td>4,25,000</td>\n",
       "      <td>40 kms</td>\n",
       "      <td>Diesel</td>\n",
       "    </tr>\n",
       "    <tr>\n",
       "      <th>2</th>\n",
       "      <td>Maruti Suzuki Alto 800 Vxi</td>\n",
       "      <td>Maruti</td>\n",
       "      <td>2018</td>\n",
       "      <td>Ask For Price</td>\n",
       "      <td>22,000 kms</td>\n",
       "      <td>Petrol</td>\n",
       "    </tr>\n",
       "    <tr>\n",
       "      <th>3</th>\n",
       "      <td>Hyundai Grand i10 Magna 1.2 Kappa VTVT</td>\n",
       "      <td>Hyundai</td>\n",
       "      <td>2014</td>\n",
       "      <td>3,25,000</td>\n",
       "      <td>28,000 kms</td>\n",
       "      <td>Petrol</td>\n",
       "    </tr>\n",
       "    <tr>\n",
       "      <th>4</th>\n",
       "      <td>Ford EcoSport Titanium 1.5L TDCi</td>\n",
       "      <td>Ford</td>\n",
       "      <td>2014</td>\n",
       "      <td>5,75,000</td>\n",
       "      <td>36,000 kms</td>\n",
       "      <td>Diesel</td>\n",
       "    </tr>\n",
       "  </tbody>\n",
       "</table>\n",
       "</div>"
      ],
      "text/plain": [
       "                                     name   company  year          Price  \\\n",
       "0    Hyundai Santro Xing XO eRLX Euro III   Hyundai  2007         80,000   \n",
       "1                 Mahindra Jeep CL550 MDI  Mahindra  2006       4,25,000   \n",
       "2              Maruti Suzuki Alto 800 Vxi    Maruti  2018  Ask For Price   \n",
       "3  Hyundai Grand i10 Magna 1.2 Kappa VTVT   Hyundai  2014       3,25,000   \n",
       "4        Ford EcoSport Titanium 1.5L TDCi      Ford  2014       5,75,000   \n",
       "\n",
       "   kms_driven fuel_type  \n",
       "0  45,000 kms    Petrol  \n",
       "1      40 kms    Diesel  \n",
       "2  22,000 kms    Petrol  \n",
       "3  28,000 kms    Petrol  \n",
       "4  36,000 kms    Diesel  "
      ]
     },
     "execution_count": 70,
     "metadata": {},
     "output_type": "execute_result"
    }
   ],
   "source": [
    "car.head()"
   ]
  },
  {
   "cell_type": "code",
   "execution_count": 5,
   "metadata": {},
   "outputs": [
    {
     "data": {
      "text/plain": [
       "(892, 6)"
      ]
     },
     "execution_count": 5,
     "metadata": {},
     "output_type": "execute_result"
    }
   ],
   "source": [
    "car.shape"
   ]
  },
  {
   "cell_type": "code",
   "execution_count": 21,
   "metadata": {},
   "outputs": [
    {
     "name": "stdout",
     "output_type": "stream",
     "text": [
      "<class 'pandas.core.frame.DataFrame'>\n",
      "Int64Index: 842 entries, 0 to 891\n",
      "Data columns (total 6 columns):\n",
      " #   Column      Non-Null Count  Dtype \n",
      "---  ------      --------------  ----- \n",
      " 0   name        842 non-null    object\n",
      " 1   company     842 non-null    object\n",
      " 2   year        842 non-null    int64 \n",
      " 3   Price       842 non-null    object\n",
      " 4   kms_driven  840 non-null    object\n",
      " 5   fuel_type   837 non-null    object\n",
      "dtypes: int64(1), object(5)\n",
      "memory usage: 46.0+ KB\n"
     ]
    }
   ],
   "source": [
    "car.info()"
   ]
  },
  {
   "cell_type": "markdown",
   "metadata": {},
   "source": [
    "##### Creating backup copy"
   ]
  },
  {
   "cell_type": "code",
   "execution_count": 5,
   "metadata": {},
   "outputs": [],
   "source": [
    "backup=car.copy()"
   ]
  },
  {
   "cell_type": "markdown",
   "metadata": {},
   "source": [
    "## Quality\n",
    "\n",
    "- names are pretty inconsistent\n",
    "- names have company names attached to it\n",
    "- some names are spam like 'Maruti Ertiga showroom condition with' and 'Well mentained Tata Sumo'\n",
    "- company: many of the names are not of any company like 'Used', 'URJENT', and so on.\n",
    "- year has many non-year values\n",
    "- year is in object. Change to integer\n",
    "- Price has Ask for Price\n",
    "- Price has commas in its prices and is in object\n",
    "- kms_driven has object values with kms at last.\n",
    "- It has nan values and two rows have 'Petrol' in them\n",
    "- fuel_type has nan values"
   ]
  },
  {
   "cell_type": "code",
   "execution_count": 7,
   "metadata": {},
   "outputs": [
    {
     "data": {
      "text/plain": [
       "Index(['name', 'company', 'year', 'Price', 'kms_driven', 'fuel_type'], dtype='object')"
      ]
     },
     "execution_count": 7,
     "metadata": {},
     "output_type": "execute_result"
    }
   ],
   "source": [
    "car.columns"
   ]
  },
  {
   "cell_type": "markdown",
   "metadata": {},
   "source": [
    "## Cleaning Data "
   ]
  },
  {
   "cell_type": "markdown",
   "metadata": {},
   "source": [
    "#### year has many non-year values"
   ]
  },
  {
   "cell_type": "code",
   "execution_count": 9,
   "metadata": {},
   "outputs": [
    {
     "data": {
      "text/plain": [
       "array(['2007', '2006', '2018', '2014', '2015', '2012', '2013', '2016',\n",
       "       '2010', '2017', '2008', '2011', '2019', '2009', '2005', '2000',\n",
       "       '...', '150k', 'TOUR', '2003', 'r 15', '2004', 'Zest', '/-Rs',\n",
       "       'sale', '1995', 'ara)', '2002', 'SELL', '2001', 'tion', 'odel',\n",
       "       '2 bs', 'arry', 'Eon', 'o...', 'ture', 'emi', 'car', 'able', 'no.',\n",
       "       'd...', 'SALE', 'digo', 'sell', 'd Ex', 'n...', 'e...', 'D...',\n",
       "       ', Ac', 'go .', 'k...', 'o c4', 'zire', 'cent', 'Sumo', 'cab',\n",
       "       't xe', 'EV2', 'r...', 'zest'], dtype=object)"
      ]
     },
     "execution_count": 9,
     "metadata": {},
     "output_type": "execute_result"
    }
   ],
   "source": [
    "car[\"year\"].unique()"
   ]
  },
  {
   "cell_type": "code",
   "execution_count": 71,
   "metadata": {
    "collapsed": true
   },
   "outputs": [
    {
     "data": {
      "text/html": [
       "<div>\n",
       "<style scoped>\n",
       "    .dataframe tbody tr th:only-of-type {\n",
       "        vertical-align: middle;\n",
       "    }\n",
       "\n",
       "    .dataframe tbody tr th {\n",
       "        vertical-align: top;\n",
       "    }\n",
       "\n",
       "    .dataframe thead th {\n",
       "        text-align: right;\n",
       "    }\n",
       "</style>\n",
       "<table border=\"1\" class=\"dataframe\">\n",
       "  <thead>\n",
       "    <tr style=\"text-align: right;\">\n",
       "      <th></th>\n",
       "      <th>name</th>\n",
       "      <th>company</th>\n",
       "      <th>year</th>\n",
       "      <th>Price</th>\n",
       "      <th>kms_driven</th>\n",
       "      <th>fuel_type</th>\n",
       "    </tr>\n",
       "  </thead>\n",
       "  <tbody>\n",
       "    <tr>\n",
       "      <th>0</th>\n",
       "      <td>Hyundai Santro Xing XO eRLX Euro III</td>\n",
       "      <td>Hyundai</td>\n",
       "      <td>2007</td>\n",
       "      <td>80,000</td>\n",
       "      <td>45,000 kms</td>\n",
       "      <td>Petrol</td>\n",
       "    </tr>\n",
       "    <tr>\n",
       "      <th>1</th>\n",
       "      <td>Mahindra Jeep CL550 MDI</td>\n",
       "      <td>Mahindra</td>\n",
       "      <td>2006</td>\n",
       "      <td>4,25,000</td>\n",
       "      <td>40 kms</td>\n",
       "      <td>Diesel</td>\n",
       "    </tr>\n",
       "    <tr>\n",
       "      <th>2</th>\n",
       "      <td>Maruti Suzuki Alto 800 Vxi</td>\n",
       "      <td>Maruti</td>\n",
       "      <td>2018</td>\n",
       "      <td>Ask For Price</td>\n",
       "      <td>22,000 kms</td>\n",
       "      <td>Petrol</td>\n",
       "    </tr>\n",
       "    <tr>\n",
       "      <th>3</th>\n",
       "      <td>Hyundai Grand i10 Magna 1.2 Kappa VTVT</td>\n",
       "      <td>Hyundai</td>\n",
       "      <td>2014</td>\n",
       "      <td>3,25,000</td>\n",
       "      <td>28,000 kms</td>\n",
       "      <td>Petrol</td>\n",
       "    </tr>\n",
       "    <tr>\n",
       "      <th>4</th>\n",
       "      <td>Ford EcoSport Titanium 1.5L TDCi</td>\n",
       "      <td>Ford</td>\n",
       "      <td>2014</td>\n",
       "      <td>5,75,000</td>\n",
       "      <td>36,000 kms</td>\n",
       "      <td>Diesel</td>\n",
       "    </tr>\n",
       "    <tr>\n",
       "      <th>...</th>\n",
       "      <td>...</td>\n",
       "      <td>...</td>\n",
       "      <td>...</td>\n",
       "      <td>...</td>\n",
       "      <td>...</td>\n",
       "      <td>...</td>\n",
       "    </tr>\n",
       "    <tr>\n",
       "      <th>886</th>\n",
       "      <td>Toyota Corolla Altis</td>\n",
       "      <td>Toyota</td>\n",
       "      <td>2009</td>\n",
       "      <td>3,00,000</td>\n",
       "      <td>1,32,000 kms</td>\n",
       "      <td>Petrol</td>\n",
       "    </tr>\n",
       "    <tr>\n",
       "      <th>888</th>\n",
       "      <td>Tata Zest XM Diesel</td>\n",
       "      <td>Tata</td>\n",
       "      <td>2018</td>\n",
       "      <td>2,60,000</td>\n",
       "      <td>27,000 kms</td>\n",
       "      <td>Diesel</td>\n",
       "    </tr>\n",
       "    <tr>\n",
       "      <th>889</th>\n",
       "      <td>Mahindra Quanto C8</td>\n",
       "      <td>Mahindra</td>\n",
       "      <td>2013</td>\n",
       "      <td>3,90,000</td>\n",
       "      <td>40,000 kms</td>\n",
       "      <td>Diesel</td>\n",
       "    </tr>\n",
       "    <tr>\n",
       "      <th>890</th>\n",
       "      <td>Honda Amaze 1.2 E i VTEC</td>\n",
       "      <td>Honda</td>\n",
       "      <td>2014</td>\n",
       "      <td>1,80,000</td>\n",
       "      <td>Petrol</td>\n",
       "      <td>NaN</td>\n",
       "    </tr>\n",
       "    <tr>\n",
       "      <th>891</th>\n",
       "      <td>Chevrolet Sail 1.2 LT ABS</td>\n",
       "      <td>Chevrolet</td>\n",
       "      <td>2014</td>\n",
       "      <td>1,60,000</td>\n",
       "      <td>Petrol</td>\n",
       "      <td>NaN</td>\n",
       "    </tr>\n",
       "  </tbody>\n",
       "</table>\n",
       "<p>842 rows × 6 columns</p>\n",
       "</div>"
      ],
      "text/plain": [
       "                                       name    company  year          Price  \\\n",
       "0      Hyundai Santro Xing XO eRLX Euro III    Hyundai  2007         80,000   \n",
       "1                   Mahindra Jeep CL550 MDI   Mahindra  2006       4,25,000   \n",
       "2                Maruti Suzuki Alto 800 Vxi     Maruti  2018  Ask For Price   \n",
       "3    Hyundai Grand i10 Magna 1.2 Kappa VTVT    Hyundai  2014       3,25,000   \n",
       "4          Ford EcoSport Titanium 1.5L TDCi       Ford  2014       5,75,000   \n",
       "..                                      ...        ...   ...            ...   \n",
       "886                    Toyota Corolla Altis     Toyota  2009       3,00,000   \n",
       "888                     Tata Zest XM Diesel       Tata  2018       2,60,000   \n",
       "889                      Mahindra Quanto C8   Mahindra  2013       3,90,000   \n",
       "890                Honda Amaze 1.2 E i VTEC      Honda  2014       1,80,000   \n",
       "891               Chevrolet Sail 1.2 LT ABS  Chevrolet  2014       1,60,000   \n",
       "\n",
       "       kms_driven fuel_type  \n",
       "0      45,000 kms    Petrol  \n",
       "1          40 kms    Diesel  \n",
       "2      22,000 kms    Petrol  \n",
       "3      28,000 kms    Petrol  \n",
       "4      36,000 kms    Diesel  \n",
       "..            ...       ...  \n",
       "886  1,32,000 kms    Petrol  \n",
       "888    27,000 kms    Diesel  \n",
       "889    40,000 kms    Diesel  \n",
       "890        Petrol       NaN  \n",
       "891        Petrol       NaN  \n",
       "\n",
       "[842 rows x 6 columns]"
      ]
     },
     "execution_count": 71,
     "metadata": {},
     "output_type": "execute_result"
    }
   ],
   "source": [
    "car[car[\"year\"].str.isnumeric()==True]"
   ]
  },
  {
   "cell_type": "code",
   "execution_count": 72,
   "metadata": {},
   "outputs": [],
   "source": [
    "car=car[car['year'].str.isnumeric()]"
   ]
  },
  {
   "cell_type": "code",
   "execution_count": 73,
   "metadata": {},
   "outputs": [
    {
     "data": {
      "text/plain": [
       "array(['2007', '2006', '2018', '2014', '2015', '2012', '2013', '2016',\n",
       "       '2010', '2017', '2008', '2011', '2019', '2009', '2005', '2000',\n",
       "       '2003', '2004', '1995', '2002', '2001'], dtype=object)"
      ]
     },
     "execution_count": 73,
     "metadata": {},
     "output_type": "execute_result"
    }
   ],
   "source": [
    "## Now check again year \n",
    "car[\"year\"].unique()"
   ]
  },
  {
   "cell_type": "markdown",
   "metadata": {},
   "source": [
    "#### year is in object. Change to integer"
   ]
  },
  {
   "cell_type": "code",
   "execution_count": 74,
   "metadata": {},
   "outputs": [],
   "source": [
    "car['year']=car['year'].astype(int)"
   ]
  },
  {
   "cell_type": "markdown",
   "metadata": {},
   "source": [
    "#### Price has Ask for Price"
   ]
  },
  {
   "cell_type": "code",
   "execution_count": 75,
   "metadata": {},
   "outputs": [
    {
     "data": {
      "text/plain": [
       "array(['80,000', '4,25,000', 'Ask For Price', '3,25,000', '5,75,000',\n",
       "       '1,75,000', '1,90,000', '8,30,000', '2,50,000', '1,82,000',\n",
       "       '3,15,000', '4,15,000', '3,20,000', '10,00,000', '5,00,000',\n",
       "       '3,50,000', '1,60,000', '3,10,000', '75,000', '1,00,000',\n",
       "       '2,90,000', '95,000', '1,80,000', '3,85,000', '1,05,000',\n",
       "       '6,50,000', '6,89,999', '4,48,000', '5,49,000', '5,01,000',\n",
       "       '4,89,999', '2,80,000', '3,49,999', '2,84,999', '3,45,000',\n",
       "       '4,99,999', '2,35,000', '2,49,999', '14,75,000', '3,95,000',\n",
       "       '2,20,000', '1,70,000', '85,000', '2,00,000', '5,70,000',\n",
       "       '1,10,000', '4,48,999', '18,91,111', '1,59,500', '3,44,999',\n",
       "       '4,49,999', '8,65,000', '6,99,000', '3,75,000', '2,24,999',\n",
       "       '12,00,000', '1,95,000', '3,51,000', '2,40,000', '90,000',\n",
       "       '1,55,000', '6,00,000', '1,89,500', '2,10,000', '3,90,000',\n",
       "       '1,35,000', '16,00,000', '7,01,000', '2,65,000', '5,25,000',\n",
       "       '3,72,000', '6,35,000', '5,50,000', '4,85,000', '3,29,500',\n",
       "       '2,51,111', '5,69,999', '69,999', '2,99,999', '3,99,999',\n",
       "       '4,50,000', '2,70,000', '1,58,400', '1,79,000', '1,25,000',\n",
       "       '2,99,000', '1,50,000', '2,75,000', '2,85,000', '3,40,000',\n",
       "       '70,000', '2,89,999', '8,49,999', '7,49,999', '2,74,999',\n",
       "       '9,84,999', '5,99,999', '2,44,999', '4,74,999', '2,45,000',\n",
       "       '1,69,500', '3,70,000', '1,68,000', '1,45,000', '98,500',\n",
       "       '2,09,000', '1,85,000', '9,00,000', '6,99,999', '1,99,999',\n",
       "       '5,44,999', '1,99,000', '5,40,000', '49,000', '7,00,000', '55,000',\n",
       "       '8,95,000', '3,55,000', '5,65,000', '3,65,000', '40,000',\n",
       "       '4,00,000', '3,30,000', '5,80,000', '3,79,000', '2,19,000',\n",
       "       '5,19,000', '7,30,000', '20,00,000', '21,00,000', '14,00,000',\n",
       "       '3,11,000', '8,55,000', '5,35,000', '1,78,000', '3,00,000',\n",
       "       '2,55,000', '5,49,999', '3,80,000', '57,000', '4,10,000',\n",
       "       '2,25,000', '1,20,000', '59,000', '5,99,000', '6,75,000', '72,500',\n",
       "       '6,10,000', '2,30,000', '5,20,000', '5,24,999', '4,24,999',\n",
       "       '6,44,999', '5,84,999', '7,99,999', '4,44,999', '6,49,999',\n",
       "       '9,44,999', '5,74,999', '3,74,999', '1,30,000', '4,01,000',\n",
       "       '13,50,000', '1,74,999', '2,39,999', '99,999', '3,24,999',\n",
       "       '10,74,999', '11,30,000', '1,49,000', '7,70,000', '30,000',\n",
       "       '3,35,000', '3,99,000', '65,000', '1,69,999', '1,65,000',\n",
       "       '5,60,000', '9,50,000', '7,15,000', '45,000', '9,40,000',\n",
       "       '1,55,555', '15,00,000', '4,95,000', '8,00,000', '12,99,000',\n",
       "       '5,30,000', '14,99,000', '32,000', '4,05,000', '7,60,000',\n",
       "       '7,50,000', '4,19,000', '1,40,000', '15,40,000', '1,23,000',\n",
       "       '4,98,000', '4,80,000', '4,88,000', '15,25,000', '5,48,900',\n",
       "       '7,25,000', '99,000', '52,000', '28,00,000', '4,99,000',\n",
       "       '3,81,000', '2,78,000', '6,90,000', '2,60,000', '90,001',\n",
       "       '1,15,000', '15,99,000', '1,59,000', '51,999', '2,15,000',\n",
       "       '35,000', '11,50,000', '2,69,000', '60,000', '4,30,000',\n",
       "       '85,00,003', '4,01,919', '4,90,000', '4,24,000', '2,05,000',\n",
       "       '5,49,900', '4,35,000', '1,89,700', '3,89,700', '3,60,000',\n",
       "       '2,95,000', '1,14,990', '10,65,000', '4,70,000', '48,000',\n",
       "       '1,88,000', '4,65,000', '1,79,999', '21,90,000', '23,90,000',\n",
       "       '10,75,000', '4,75,000', '10,25,000', '6,15,000', '19,00,000',\n",
       "       '14,90,000', '15,10,000', '18,50,000', '7,90,000', '17,25,000',\n",
       "       '12,25,000', '68,000', '9,70,000', '31,00,000', '8,99,000',\n",
       "       '88,000', '53,000', '5,68,500', '71,000', '5,90,000', '7,95,000',\n",
       "       '42,000', '1,89,000', '1,62,000', '35,999', '29,00,000', '39,999',\n",
       "       '50,500', '5,10,000', '8,60,000', '5,00,001'], dtype=object)"
      ]
     },
     "execution_count": 75,
     "metadata": {},
     "output_type": "execute_result"
    }
   ],
   "source": [
    "car['Price'].unique()"
   ]
  },
  {
   "cell_type": "code",
   "execution_count": 76,
   "metadata": {},
   "outputs": [],
   "source": [
    "car=car[car['Price']!='Ask For Price']"
   ]
  },
  {
   "cell_type": "markdown",
   "metadata": {},
   "source": [
    "#### Price has commas in its prices and is in object"
   ]
  },
  {
   "cell_type": "code",
   "execution_count": 77,
   "metadata": {},
   "outputs": [],
   "source": [
    "car['Price']=car['Price'].str.replace(',','')"
   ]
  },
  {
   "cell_type": "code",
   "execution_count": 78,
   "metadata": {},
   "outputs": [],
   "source": [
    "car['Price']=car['Price'].astype(int)"
   ]
  },
  {
   "cell_type": "code",
   "execution_count": 79,
   "metadata": {
    "scrolled": true
   },
   "outputs": [
    {
     "data": {
      "text/plain": [
       "array([  80000,  425000,  325000,  575000,  175000,  190000,  830000,\n",
       "        250000,  182000,  315000,  415000,  320000, 1000000,  500000,\n",
       "        350000,  160000,  310000,   75000,  100000,  290000,   95000,\n",
       "        180000,  385000,  105000,  650000,  689999,  448000,  549000,\n",
       "        501000,  489999,  280000,  349999,  284999,  345000,  499999,\n",
       "        235000,  249999, 1475000,  395000,  220000,  170000,   85000,\n",
       "        200000,  570000,  110000,  448999, 1891111,  159500,  344999,\n",
       "        449999,  865000,  699000,  375000,  224999, 1200000,  195000,\n",
       "        351000,  240000,   90000,  155000,  600000,  189500,  210000,\n",
       "        390000,  135000, 1600000,  701000,  265000,  525000,  372000,\n",
       "        635000,  550000,  485000,  329500,  251111,  569999,   69999,\n",
       "        299999,  399999,  450000,  270000,  158400,  179000,  125000,\n",
       "        299000,  150000,  275000,  285000,  340000,   70000,  289999,\n",
       "        849999,  749999,  274999,  984999,  599999,  244999,  474999,\n",
       "        245000,  169500,  370000,  168000,  145000,   98500,  209000,\n",
       "        185000,  900000,  699999,  199999,  544999,  199000,  540000,\n",
       "         49000,  700000,   55000,  895000,  355000,  565000,  365000,\n",
       "         40000,  400000,  330000,  580000,  379000,  219000,  519000,\n",
       "        730000, 2000000, 2100000, 1400000,  311000,  855000,  535000,\n",
       "        178000,  300000,  255000,  549999,  380000,   57000,  410000,\n",
       "        225000,  120000,   59000,  599000,  675000,   72500,  610000,\n",
       "        230000,  520000,  524999,  424999,  644999,  584999,  799999,\n",
       "        444999,  649999,  944999,  574999,  374999,  130000,  401000,\n",
       "       1350000,  174999,  239999,   99999,  324999, 1074999, 1130000,\n",
       "        149000,  770000,   30000,  335000,  399000,   65000,  169999,\n",
       "        165000,  560000,  950000,  715000,   45000,  940000,  155555,\n",
       "       1500000,  495000,  800000, 1299000,  530000, 1499000,   32000,\n",
       "        405000,  760000,  750000,  419000,  140000, 1540000,  123000,\n",
       "        498000,  480000,  488000, 1525000,  548900,  725000,   99000,\n",
       "         52000, 2800000,  499000,  381000,  278000,  690000,  260000,\n",
       "         90001,  115000, 1599000,  159000,   51999,  215000,   35000,\n",
       "       1150000,  269000,   60000,  430000, 8500003,  401919,  490000,\n",
       "        424000,  205000,  549900,  435000,  189700,  389700,  360000,\n",
       "        295000,  114990, 1065000,  470000,   48000,  188000,  465000,\n",
       "        179999, 2190000, 2390000, 1075000,  475000, 1025000,  615000,\n",
       "       1900000, 1490000, 1510000, 1850000,  790000, 1725000, 1225000,\n",
       "         68000,  970000, 3100000,  899000,   88000,   53000,  568500,\n",
       "         71000,  590000,  795000,   42000,  189000,  162000,   35999,\n",
       "       2900000,   39999,   50500,  510000,  860000,  500001])"
      ]
     },
     "execution_count": 79,
     "metadata": {},
     "output_type": "execute_result"
    }
   ],
   "source": [
    "## Check price again\n",
    "car['Price'].unique()"
   ]
  },
  {
   "cell_type": "markdown",
   "metadata": {},
   "source": [
    "####  kms_driven has object values with kms at last."
   ]
  },
  {
   "cell_type": "code",
   "execution_count": 80,
   "metadata": {},
   "outputs": [
    {
     "data": {
      "text/plain": [
       "'45,000 kms'"
      ]
     },
     "execution_count": 80,
     "metadata": {},
     "output_type": "execute_result"
    }
   ],
   "source": [
    "car['kms_driven'][0]"
   ]
  },
  {
   "cell_type": "code",
   "execution_count": 81,
   "metadata": {},
   "outputs": [
    {
     "data": {
      "text/plain": [
       "['45,000', 'kms']"
      ]
     },
     "execution_count": 81,
     "metadata": {},
     "output_type": "execute_result"
    }
   ],
   "source": [
    "car['kms_driven'][0].split()"
   ]
  },
  {
   "cell_type": "code",
   "execution_count": 82,
   "metadata": {},
   "outputs": [
    {
     "data": {
      "text/plain": [
       "'45,000'"
      ]
     },
     "execution_count": 82,
     "metadata": {},
     "output_type": "execute_result"
    }
   ],
   "source": [
    "car['kms_driven'][0].split()[0]"
   ]
  },
  {
   "cell_type": "code",
   "execution_count": 83,
   "metadata": {},
   "outputs": [
    {
     "data": {
      "text/plain": [
       "'45000'"
      ]
     },
     "execution_count": 83,
     "metadata": {},
     "output_type": "execute_result"
    }
   ],
   "source": [
    "car['kms_driven'][0].split()[0].replace(\",\",\"\")"
   ]
  },
  {
   "cell_type": "code",
   "execution_count": 87,
   "metadata": {},
   "outputs": [],
   "source": [
    "car['kms_driven']=car['kms_driven'].str.split().str.get(0).str.replace(',','')"
   ]
  },
  {
   "cell_type": "code",
   "execution_count": 89,
   "metadata": {},
   "outputs": [
    {
     "data": {
      "text/plain": [
       "array(['45000', '40', '28000', '36000', '41000', '25000', '24530',\n",
       "       '60000', '30000', '32000', '48660', '4000', '16934', '43000',\n",
       "       '35550', '39522', '39000', '55000', '72000', '15975', '70000',\n",
       "       '23452', '35522', '48508', '15487', '82000', '20000', '68000',\n",
       "       '38000', '27000', '33000', '46000', '16000', '47000', '35000',\n",
       "       '30874', '15000', '29685', '130000', '19000', '54000', '13000',\n",
       "       '38200', '22000', '50000', '13500', '3600', '45863', '60500',\n",
       "       '12500', '18000', '13349', '29000', '44000', '42000', '14000',\n",
       "       '49000', '36200', '51000', '104000', '33333', '33600', '5600',\n",
       "       '7500', '26000', '24330', '65480', '200000', '59000', '99000',\n",
       "       '2800', '21000', '11000', '66000', '3000', '7000', '38500',\n",
       "       '37200', '43200', '24800', '45872', '40000', '11400', '97200',\n",
       "       '52000', '31000', '175430', '37000', '65000', '3350', '75000',\n",
       "       '62000', '73000', '2200', '54870', '34580', '97000', '60', '80200',\n",
       "       '3200', '0000', '5000', '588', '71200', '175400', '9300', '56758',\n",
       "       '10000', '56450', '56000', '32700', '9000', '73', '160000',\n",
       "       '58559', '57000', '170000', '80000', '6821', '23000', '34000',\n",
       "       '1800', '400000', '48000', '90000', '12000', '69900', '166000',\n",
       "       '122', '0', '36469', '7800', '24695', '15141', '59910', '100000',\n",
       "       '4500', '129000', '300', '131000', '111111', '59466', '25500',\n",
       "       '44005', '2110', '43222', '100200', '65', '140000', '103553',\n",
       "       '58000', '120000', '49800', '100', '81876', '6020', '55700',\n",
       "       '18500', '53000', '35500', '22134', '1000', '8500', '87000',\n",
       "       '6000', '8000', '55800', '56400', '72160', '11500', '133000',\n",
       "       '2000', '88000', '65422', '117000', '150000', '10750', '6800',\n",
       "       '9800', '57923', '30201', '6200', '37518', '24652', '383', '95000',\n",
       "       '3528', '52500', '47900', '52800', '195000', '48008', '48247',\n",
       "       '9400', '64000', '2137', '10544', '147000', '90001', '48006',\n",
       "       '74000', '85000', '29500', '39700', '67000', '19336', '60105',\n",
       "       '45933', '102563', '28600', '41800', '116000', '42590', '7400',\n",
       "       '54500', '76000', '00', '11523', '38600', '95500', '37458',\n",
       "       '85960', '12516', '30600', '2550', '62500', '69000', '28400',\n",
       "       '68485', '3500', '85455', '63000', '1600', '77000', '26500',\n",
       "       '2875', '13900', '1500', '2450', '1625', '33400', '60123',\n",
       "       '137495', '91200', '146000', '100800', '2100', '2500', '132000'],\n",
       "      dtype=object)"
      ]
     },
     "execution_count": 89,
     "metadata": {},
     "output_type": "execute_result"
    }
   ],
   "source": [
    "car[\"kms_driven\"].unique()"
   ]
  },
  {
   "cell_type": "markdown",
   "metadata": {},
   "source": [
    "#### It has nan values and two rows have 'Petrol' in them"
   ]
  },
  {
   "cell_type": "code",
   "execution_count": 90,
   "metadata": {},
   "outputs": [],
   "source": [
    "car=car[car['kms_driven'].str.isnumeric()]"
   ]
  },
  {
   "cell_type": "code",
   "execution_count": 91,
   "metadata": {},
   "outputs": [],
   "source": [
    "car['kms_driven']=car['kms_driven'].astype(int)"
   ]
  },
  {
   "cell_type": "code",
   "execution_count": 92,
   "metadata": {},
   "outputs": [
    {
     "data": {
      "text/plain": [
       "0       45000\n",
       "1          40\n",
       "3       28000\n",
       "4       36000\n",
       "6       41000\n",
       "        ...  \n",
       "883     50000\n",
       "885     30000\n",
       "886    132000\n",
       "888     27000\n",
       "889     40000\n",
       "Name: kms_driven, Length: 817, dtype: int64"
      ]
     },
     "execution_count": 92,
     "metadata": {},
     "output_type": "execute_result"
    }
   ],
   "source": [
    "car['kms_driven']"
   ]
  },
  {
   "cell_type": "markdown",
   "metadata": {},
   "source": [
    "#### fuel_type has nan values"
   ]
  },
  {
   "cell_type": "code",
   "execution_count": 95,
   "metadata": {},
   "outputs": [
    {
     "data": {
      "text/plain": [
       "0      True\n",
       "1      True\n",
       "3      True\n",
       "4      True\n",
       "6      True\n",
       "       ... \n",
       "883    True\n",
       "885    True\n",
       "886    True\n",
       "888    True\n",
       "889    True\n",
       "Name: fuel_type, Length: 817, dtype: bool"
      ]
     },
     "execution_count": 95,
     "metadata": {},
     "output_type": "execute_result"
    }
   ],
   "source": [
    "~car['fuel_type'].isna()"
   ]
  },
  {
   "cell_type": "code",
   "execution_count": 102,
   "metadata": {},
   "outputs": [],
   "source": [
    "car=car[car['fuel_type'].isna()==False]"
   ]
  },
  {
   "cell_type": "code",
   "execution_count": 103,
   "metadata": {},
   "outputs": [
    {
     "data": {
      "text/plain": [
       "(816, 6)"
      ]
     },
     "execution_count": 103,
     "metadata": {},
     "output_type": "execute_result"
    }
   ],
   "source": [
    "car.shape"
   ]
  },
  {
   "cell_type": "code",
   "execution_count": 105,
   "metadata": {},
   "outputs": [
    {
     "data": {
      "text/plain": [
       "array(['Hyundai', 'Mahindra', 'Ford', 'Maruti', 'Skoda', 'Audi', 'Toyota',\n",
       "       'Renault', 'Honda', 'Datsun', 'Mitsubishi', 'Tata', 'Volkswagen',\n",
       "       'Chevrolet', 'Mini', 'BMW', 'Nissan', 'Hindustan', 'Fiat', 'Force',\n",
       "       'Mercedes', 'Land', 'Jaguar', 'Jeep', 'Volvo'], dtype=object)"
      ]
     },
     "execution_count": 105,
     "metadata": {},
     "output_type": "execute_result"
    }
   ],
   "source": [
    "car[\"company\"].unique()"
   ]
  },
  {
   "cell_type": "code",
   "execution_count": 106,
   "metadata": {
    "scrolled": true
   },
   "outputs": [
    {
     "data": {
      "text/plain": [
       "array(['Hyundai Santro Xing XO eRLX Euro III', 'Mahindra Jeep CL550 MDI',\n",
       "       'Hyundai Grand i10 Magna 1.2 Kappa VTVT',\n",
       "       'Ford EcoSport Titanium 1.5L TDCi', 'Ford Figo', 'Hyundai Eon',\n",
       "       'Ford EcoSport Ambiente 1.5L TDCi',\n",
       "       'Maruti Suzuki Alto K10 VXi AMT', 'Skoda Fabia Classic 1.2 MPI',\n",
       "       'Maruti Suzuki Stingray VXi', 'Hyundai Elite i20 Magna 1.2',\n",
       "       'Mahindra Scorpio SLE BS IV', 'Audi A8', 'Audi Q7',\n",
       "       'Mahindra Scorpio S10', 'Maruti Suzuki Alto 800',\n",
       "       'Maruti Suzuki Alto 800 Vxi', 'Hyundai i20 Sportz 1.2',\n",
       "       'Maruti Suzuki Alto 800 Lx', 'Maruti Suzuki Vitara Brezza ZDi',\n",
       "       'Maruti Suzuki Alto LX', 'Mahindra Bolero DI',\n",
       "       'Maruti Suzuki Swift Dzire ZDi', 'Mahindra Scorpio S10 4WD',\n",
       "       'Maruti Suzuki Swift Vdi BSIII',\n",
       "       'Maruti Suzuki Wagon R VXi BS III',\n",
       "       'Maruti Suzuki Wagon R VXi Minor',\n",
       "       'Toyota Innova 2.0 G 8 STR BS IV', 'Renault Lodgy 85 PS RXL',\n",
       "       'Skoda Yeti Ambition 2.0 TDI CR 4x2',\n",
       "       'Maruti Suzuki Baleno Delta 1.2',\n",
       "       'Renault Duster 110 PS RxZ Diesel Plus',\n",
       "       'Renault Duster 85 PS RxE Diesel', 'Honda City 1.5 S MT',\n",
       "       'Maruti Suzuki Dzire', 'Honda Amaze', 'Honda Amaze 1.5 SX i DTEC',\n",
       "       'Honda City', 'Datsun Redi GO S', 'Maruti Suzuki SX4 ZXI MT',\n",
       "       'Mitsubishi Pajero Sport Limited Edition',\n",
       "       'Maruti Suzuki Swift VXi 1.2 ABS BS IV', 'Honda City ZX CVT',\n",
       "       'Maruti Suzuki Wagon R LX BS IV', 'Tata Indigo eCS LS CR4 BS IV',\n",
       "       'Volkswagen Polo Highline Exquisite P', 'Chevrolet Spark LS 1.0',\n",
       "       'Renault Duster 110PS Diesel RxZ', 'Mini Cooper S 1.6',\n",
       "       'Skoda Fabia 1.2L Diesel Ambiente', 'Renault Duster',\n",
       "       'Mahindra Scorpio S4', 'Mahindra Scorpio VLX 2WD BS IV',\n",
       "       'Mahindra Quanto C8', 'Ford EcoSport', 'Honda Brio',\n",
       "       'Volkswagen Vento Highline Plus 1.5 Diesel AT',\n",
       "       'Hyundai i20 Magna', 'Toyota Corolla Altis Diesel D4DG',\n",
       "       'Hyundai Verna Transform SX VTVT',\n",
       "       'Toyota Corolla Altis Petrol Ltd', 'Honda City 1.5 EXi New',\n",
       "       'Skoda Fabia 1.2L Diesel Elegance', 'BMW 3 Series 320i',\n",
       "       'Maruti Suzuki A Star Lxi', 'Toyota Etios GD',\n",
       "       'Ford Figo Diesel EXI Option',\n",
       "       'Maruti Suzuki Swift Dzire VXi 1.2 BS IV',\n",
       "       'Chevrolet Beat LT Diesel', 'BMW 7 Series 740Li Sedan',\n",
       "       'Mahindra XUV500 W8 AWD 2013', 'Hyundai i10 Magna 1.2',\n",
       "       'Hyundai Verna Fluidic New', 'Maruti Suzuki Swift VXi 1.2 BS IV',\n",
       "       'Maruti Suzuki Ertiga ZXI Plus', 'Maruti Suzuki Ertiga Vxi',\n",
       "       'Maruti Suzuki Ertiga VDi', 'Maruti Suzuki Alto LXi BS III',\n",
       "       'Hyundai Grand i10 Asta 1.1 CRDi', 'Honda Amaze 1.2 S i VTEC',\n",
       "       'Hyundai i20 Asta 1.4 CRDI 6 Speed', 'Ford Figo Diesel EXI',\n",
       "       'Maruti Suzuki Eeco 5 STR WITH AC HTR', 'Maruti Suzuki Ertiga ZXi',\n",
       "       'Maruti Suzuki Esteem LXi BS III', 'Maruti Suzuki Ritz VXI',\n",
       "       'Maruti Suzuki Ritz LDi', 'Maruti Suzuki Dzire VDI',\n",
       "       'Toyota Etios Liva G', 'Hyundai i20 Sportz 1.4 CRDI',\n",
       "       'Chevrolet Spark', 'Nissan Micra XV', 'Maruti Suzuki Swift',\n",
       "       'Honda Amaze 1.5 S i DTEC', 'Chevrolet Beat',\n",
       "       'Honda City 1.5 V MT', 'Ford EcoSport Trend 1.5L TDCi',\n",
       "       'Hyundai i20 Asta 1.2', 'Tata Indica V2 eLS',\n",
       "       'Hindustan Motors Ambassador', 'Toyota Corolla Altis 1.8 GL',\n",
       "       'Toyota Corolla Altis 1.8 J', 'Toyota Innova 2.5 GX BS IV 7 STR',\n",
       "       'Volkswagen Jetta Highline TDI AT',\n",
       "       'Volkswagen Polo Comfortline 1.2L P', 'Volkswagen Polo',\n",
       "       'Mahindra Scorpio', 'Nissan Sunny', 'Hyundai Elite i20',\n",
       "       'Renault Kwid', 'Mahindra Scorpio VLX Airbag',\n",
       "       'Maruti Suzuki Alto 800 Lxi', 'Chevrolet Spark LT 1.0',\n",
       "       'Datsun Redi GO T O', 'Maruti Suzuki Swift RS VDI',\n",
       "       'Fiat Punto Emotion 1.2', 'Hyundai i10 Sportz 1.2',\n",
       "       'Chevrolet Beat LT Opt Diesel', 'Chevrolet Beat LS Diesel',\n",
       "       'Tata Indigo CS', 'Maruti Suzuki Swift VDi',\n",
       "       'Hyundai Eon Era Plus', 'Mahindra XUV500', 'Ford Fiesta',\n",
       "       'Maruti Suzuki Wagon R', 'Hyundai i20',\n",
       "       'Tata Indigo eCS LX TDI BS III',\n",
       "       'Hyundai Fluidic Verna 1.6 CRDi SX', 'Fiat Petra ELX 1.2 PS',\n",
       "       'Hyundai Santro Xing XS', 'Maruti Suzuki Ciaz VXi Plus',\n",
       "       'Maruti Suzuki Zen VX', 'Hyundai Creta 1.6 SX Plus Petrol',\n",
       "       'Mahindra Scorpio SLX', 'Toyota Innova 2.5 G BS III 8 STR',\n",
       "       'Maruti Suzuki Wagon R LXI BS IV', 'Tata Nano Cx BSIV',\n",
       "       'Maruti Suzuki Alto Std BS IV', 'Maruti Suzuki Wagon R LXi BS III',\n",
       "       'Maruti Suzuki Swift VXI BSIII',\n",
       "       'Tata Sumo Victa EX 10 by 7 Str BSIII',\n",
       "       'Volkswagen Passat Diesel Comfortline AT',\n",
       "       'Renault Scala RxL Diesel Travelogue',\n",
       "       'Hyundai Grand i10 Sportz O 1.2 Kappa VTVT',\n",
       "       'Hyundai i20 Active 1.2 SX', 'Mahindra Xylo E4',\n",
       "       'Mahindra Jeep MM 550 XDB', 'Mahindra Bolero SLE BS IV',\n",
       "       'Force Motors Force One LX ABS 7 STR', 'Maruti Suzuki SX4',\n",
       "       'Toyota Etios', 'Honda City ZX VTEC',\n",
       "       'Maruti Suzuki Wagon R LX BS III', 'Honda City VX O MT Diesel',\n",
       "       'Mahindra Thar CRDe 4x4 AC',\n",
       "       'Audi A4 1.8 TFSI Multitronic Premium Plus',\n",
       "       'Mercedes Benz GLA Class 200 CDI Sport',\n",
       "       'Land Rover Freelander 2 SE', 'Renault Kwid RXT',\n",
       "       'Tata Aria Pleasure 4X2', 'Mercedes Benz B Class B180 Sports',\n",
       "       'Datsun GO T O', 'Honda Jazz VX MT',\n",
       "       'Hyundai i20 Active 1.4L SX O', 'Mini Cooper S',\n",
       "       'Maruti Suzuki Ciaz ZXI Plus', 'Chevrolet Tavera Neo',\n",
       "       'Hyundai Eon Sportz', 'Tata Sumo Gold Select Variant',\n",
       "       'Maruti Suzuki Wagon R 1.0', 'Maruti Suzuki Esteem VXi BS III',\n",
       "       'Chevrolet Enjoy 1.4 LS 8 STR', 'Maruti Suzuki Wagon R 1.0 VXi',\n",
       "       'Nissan Terrano XL D Plus', 'Renault Duster 85 PS RxL Diesel',\n",
       "       'Maruti Suzuki Dzire ZXI', 'Renault Kwid RXT Opt',\n",
       "       'Maruti Suzuki Maruti 800 Std', 'Renault Kwid 1.0 RXT AMT',\n",
       "       'Renault Scala RxL Diesel',\n",
       "       'Hyundai Grand i10 Asta 1.2 Kappa VTVT O',\n",
       "       'Chevrolet Beat LS Petrol', 'Hyundai Accent GLX',\n",
       "       'Mahindra TUV300 T4 Plus', 'Tata Indica V2 Xeta e GLE',\n",
       "       'Tata Indigo CS LS DiCOR',\n",
       "       'Mahindra Scorpio VLX Special Edition BS III', 'Honda Accord',\n",
       "       'Ford EcoSport Titanium 1.5 TDCi', 'Maruti Suzuki Ertiga',\n",
       "       'Mahindra Scorpio 2.6 CRDe', 'Honda Mobilio',\n",
       "       'Toyota Corolla Altis', 'Skoda Laura', 'Hyundai Verna Fluidic',\n",
       "       'Maruti Suzuki Vitara Brezza', 'Tata Manza Aura Quadrajet',\n",
       "       'Chevrolet Sail UVA Petrol LT ABS',\n",
       "       'Hyundai Verna Fluidic 1.6 VTVT SX',\n",
       "       'Audi A4 2.0 TDI 177bhp Premium', 'Hyundai Elantra SX',\n",
       "       'Mahindra Scorpio VLX 4WD Airbag', 'Mahindra KUV100 K8 D 6 STR',\n",
       "       'Hyundai Grand i10', 'Hyundai i10', 'Hyundai i20 Active',\n",
       "       'Datsun Redi GO', 'Toyota Etios Liva', 'Hyundai Accent',\n",
       "       'Hyundai Verna', 'Toyota Fortuner', 'Hyundai i10 Sportz',\n",
       "       'Mahindra Bolero Power Plus SLE', 'Honda City 1.5 V MT Exclusive',\n",
       "       'Chevrolet Spark LT 1.0 Airbag', 'Tata Indigo eCS VX CR4 BS IV',\n",
       "       'Skoda Rapid Elegance 1.6 TDI CR MT', 'Tata Vista Quadrajet VX',\n",
       "       'Maruti Suzuki Alto K10 VXi AT', 'Maruti Suzuki Zen LXi BS III',\n",
       "       'Maruti Suzuki Swift Dzire Tour LDi', 'Honda City ZX EXi',\n",
       "       'Chevrolet Beat Diesel', 'Hyundai Verna 1.4 VTVT',\n",
       "       'Toyota Innova 2.5 E MS 7 STR BS IV',\n",
       "       'Maruti Suzuki Maruti 800 Std – Befo',\n",
       "       'Hyundai Elite i20 Asta 1.4 CRDI',\n",
       "       'Maruti Suzuki Versa DX2 8 SEATER BSIII',\n",
       "       'Tata Indigo LX TDI BS III',\n",
       "       'Volkswagen Vento Konekt Diesel Highline',\n",
       "       'Mercedes Benz C Class 200 CDI Classic', 'Hyundai Santro Xing GLS',\n",
       "       'Maruti Suzuki Omni Limited Edition',\n",
       "       'Hyundai Sonata Transform 2.4 GDi MT',\n",
       "       'Hyundai Elite i20 Sportz 1.2', 'Honda Jazz S MT',\n",
       "       'Hyundai Grand i10 Sportz 1.2 Kappa VTVT',\n",
       "       'Maruti Suzuki Zen LXi BSII',\n",
       "       'Mahindra Scorpio W Turbo 2.6DX 9 Seater',\n",
       "       'Maruti Suzuki Alto K10 VXi',\n",
       "       'Hyundai Grand i10 Asta 1.2 Kappa VTVT', 'Mahindra XUV500 W8',\n",
       "       'Hyundai i20 Magna O 1.2', 'Renault Duster 85 PS RxL Explore LE',\n",
       "       'Honda Brio V MT', 'Mahindra TUV300 T8',\n",
       "       'Nissan X Trail Select Variant', 'Ford Ikon 1.3 CLXi NXt Finesse',\n",
       "       'Toyota Fortuner 3.0 4x4 MT', 'Tata Manza ELAN Quadrajet',\n",
       "       'Mercedes Benz A Class A 180 Sport Petrol', 'Tata Indigo LS',\n",
       "       'Hyundai i20 Magna 1.2', 'Honda Amaze 1.5 E i DTEC',\n",
       "       'Hyundai Verna 1.6 EX VTVT', 'BMW 5 Series 520d Sedan',\n",
       "       'Skoda Superb 1.8 TFSI AT', 'Audi Q3 2.0 TDI quattro Premium',\n",
       "       'Mahindra Bolero DI BSII',\n",
       "       'Ford Figo Duratorq Diesel Titanium 1.4',\n",
       "       'Maruti Suzuki Wagon R VXI BS IV', 'Mahindra Logan Diesel 1.5 DLS',\n",
       "       'Tata Nano GenX XMA', 'Honda City SV', 'Ford Figo Petrol LXI',\n",
       "       'Hyundai i10 Magna 1.2 Kappa2', 'Toyota Corolla H2',\n",
       "       'Maruti Suzuki Swift Dzire Tour VXi', 'Tata Indigo CS eLS BS IV',\n",
       "       'Hyundai Xcent Base 1.1 CRDi', 'Hyundai Accent Executive Edition',\n",
       "       'Tata Zest XE 75 PS Diesel', 'Maruti Suzuki Dzire LDI',\n",
       "       'Tata Sumo Gold LX BS IV', 'Toyota Corolla Altis GL Petrol',\n",
       "       'Maruti Suzuki Eeco 7 STR', 'Toyota Fortuner 3.0 4x2 MT',\n",
       "       'Mahindra XUV500 W6', 'Tata Tigor Revotron XZ',\n",
       "       'Maruti Suzuki 800', 'Honda Mobilio S i DTEC',\n",
       "       'Hyundai Verna 1.6 CRDI E', 'Maruti Suzuki Omni Select Variant',\n",
       "       'Tata Indica', 'Hyundai Santro Xing', 'Maruti Suzuki Zen Estilo',\n",
       "       'Honda Brio VX AT', 'Maruti Suzuki Zen Estilo LXI Green CNG',\n",
       "       'Maruti Suzuki Wagon R Select Variant', 'Tata Nano Lx BSIV',\n",
       "       'Jaguar XE XE Portfolio', 'Hyundai Eon Magna Plus',\n",
       "       'Maruti Suzuki Ritz GENUS VXI',\n",
       "       'Hyundai Grand i10 Magna AT 1.2 Kappa VTVT',\n",
       "       'Hyundai Eon D Lite Plus', 'Honda Amaze 1.2 VX i VTEC',\n",
       "       'Maruti Suzuki Estilo VXi ABS BS IV',\n",
       "       'Maruti Suzuki Vitara Brezza LDi O',\n",
       "       'Hyundai Creta 1.6 SX Plus Petrol AT', 'Mahindra Scorpio Vlx BSIV',\n",
       "       'Mitsubishi Lancer 1.8 LXi', 'Maruti Suzuki Maruti 800 AC',\n",
       "       'Maruti Suzuki Alto 800 LXI CNG O', 'Ford Fiesta SXi 1.6 ABS',\n",
       "       'Maruti Suzuki Ritz VDi', 'Maruti Suzuki Estilo LX BS IV',\n",
       "       'Audi A6 2.0 TDI Premium', 'Maruti Suzuki Alto',\n",
       "       'Maruti Suzuki Baleno Sigma 1.2', 'Hyundai Verna 1.6 SX VTVT AT',\n",
       "       'Maruti Suzuki Swift GLAM', 'Hyundai Getz Prime 1.3 GVS',\n",
       "       'Hyundai Santro', 'Hyundai Getz Prime 1.3 GLX',\n",
       "       'Chevrolet Beat PS Diesel', 'Ford EcoSport Trend 1.5 Ti VCT',\n",
       "       'Tata Indica V2 DLG', 'BMW X1 xDrive20d xLine',\n",
       "       'Honda City 1.5 V AT', 'Tata Nano', 'Chevrolet Cruze LTZ AT',\n",
       "       'Maruti Suzuki Swift Dzire VDi', 'Mahindra XUV500 W10',\n",
       "       'Maruti Suzuki Alto K10 LXi CNG', 'Hyundai Accent GLE',\n",
       "       'Force Motors One SUV', 'Chevrolet Spark 1.0 LT',\n",
       "       'Toyota Etios Liva GD',\n",
       "       'Renault Duster 85PS Diesel RxL Optional with Nav',\n",
       "       'Chevrolet Enjoy', 'BMW 5 Series 530i', 'Chevrolet Cruze LTZ',\n",
       "       'Jeep Wrangler Unlimited 4x4 Diesel',\n",
       "       'Hyundai Verna VGT CRDi SX ABS', 'Maruti Suzuki Omni',\n",
       "       'Maruti Suzuki Celerio VDi', 'Tata Zest Quadrajet 1.3',\n",
       "       'Tata Indigo CS eLX BS IV', 'Hyundai i10 Era',\n",
       "       'Tata Indigo eCS LX CR4 BS IV', 'Tata Indigo Marina LS',\n",
       "       'Hyundai Xcent SX 1.2', 'Tata Nano LX Special Edition',\n",
       "       'Renault Duster 110 PS RxZ Diesel',\n",
       "       'Maruti Suzuki Wagon R AX BSIV', 'Maruti Suzuki Alto K10 New',\n",
       "       'Mahindra Xylo E8', 'Tata Manza Aqua Quadrajet',\n",
       "       'Renault Kwid 1.0', 'Tata Venture EX 8 STR',\n",
       "       'Maruti Suzuki Swift Dzire Tour LXi',\n",
       "       'Skoda Octavia Classic 1.9 TDI MT', 'Maruti Suzuki Omni LPG BS IV',\n",
       "       'Tata Sumo Gold EX BS IV', 'Hyundai Verna 1.6 CRDI SX',\n",
       "       'Mahindra Scorpio SLX 2.6 Turbo 8 Str', 'Ford Ikon 1.6 Nxt',\n",
       "       'Toyota Innova 2.5 V 7 STR', 'Nissan Sunny XL',\n",
       "       'Maruti Suzuki Swift VDi BS IV', 'Toyota Innova 2.0 G4',\n",
       "       'Maruti Suzuki Swift VDi ABS', 'Hyundai Elite i20 Asta 1.2',\n",
       "       'Volkswagen Polo Trendline 1.5L D', 'Toyota Etios Liva Diesel',\n",
       "       'Maruti Suzuki Ciaz ZXi Plus RS', 'Hyundai Elantra 1.8 S',\n",
       "       'Ford EcoSport Trend 1.5L Ti VCT', 'Tata Indica eV2 LS',\n",
       "       'Jaguar XF 2.2 Diesel Luxury',\n",
       "       'Audi Q5 2.0 TDI quattro Premium Plus', 'BMW 3 Series 320d Sedan',\n",
       "       'Maruti Suzuki Swift ZXi 1.2 BS IV', 'BMW X1 sDrive20d',\n",
       "       'Maruti Suzuki S Cross Sigma 1.3', 'Maruti Suzuki Ertiga LDi',\n",
       "       'Volkswagen Vento Comfortline Petrol', 'Mahindra KUV100',\n",
       "       'Maruti Suzuki Swift Dzire Tour VDi', 'Mahindra Scorpio 2.6 SLX',\n",
       "       'Maruti Suzuki Omni 8 STR BS III',\n",
       "       'Volkswagen Jetta Comfortline 1.9 TDI AT', 'Volvo S80 Summum D4',\n",
       "       'Toyota Corolla Altis VL AT Petrol',\n",
       "       'Mitsubishi Pajero Sport 2.5 AT', 'Chevrolet Beat LT Petrol',\n",
       "       'BMW X1', 'Mercedes Benz C Class C 220 CDI Avantgarde',\n",
       "       'Volkswagen Vento Comfortline Diesel', 'Tata Indigo CS GLS',\n",
       "       'Ford Figo Petrol Titanium', 'Honda City ZX GXi',\n",
       "       'Maruti Suzuki Wagon R Duo Lxi', 'Maruti Suzuki Zen LX BSII',\n",
       "       'Renault Duster RxL Petrol', 'Maruti Suzuki Baleno Zeta 1.2',\n",
       "       'Honda WR V S MT Petrol', 'Renault Duster 110 PS RxL Diesel',\n",
       "       'Mahindra Scorpio LX BS III',\n",
       "       'Maruti Suzuki SX4 Celebration Diesel',\n",
       "       'Audi A3 Cabriolet 40 TFSI', 'Hyundai Santro AE GLS Audio',\n",
       "       'Mahindra Xylo D2 BS IV', 'Hyundai Getz GLE',\n",
       "       'Hyundai Creta 1.6 SX', 'Hyundai Santro Xing XL AT eRLX Euro III',\n",
       "       'Hyundai Santro Xing XL eRLX Euro III',\n",
       "       'Tata Indica V2 DLS BS III', 'Honda City 1.5 E MT',\n",
       "       'Nissan Micra XL', 'Honda City 1.5 S Inspire',\n",
       "       'Tata Indica eV2 eXeta eGLX', 'Maruti Suzuki Omni E 8 STR BS IV',\n",
       "       'Maruti Suzuki Swift LDi', 'Hyundai Verna 1.6 CRDI SX Plus AT',\n",
       "       'Chevrolet Tavera LS B3 10 Seats BSII', 'Tata Tiago Revotron XM',\n",
       "       'Tata Tiago Revotorq XZ',\n",
       "       'Hindustan Motors Ambassador Classic Mark 4 – Befo',\n",
       "       'Ford Fusion 1.4 TDCi Diesel',\n",
       "       'Fiat Linea Emotion 1.4 L T Jet Petrol',\n",
       "       'Ford Ikon 1.3 Flair Josh 100', 'Tata Indica V2 LS',\n",
       "       'Mahindra Xylo D2', 'Toyota Corolla', 'Hyundai Eon Magna',\n",
       "       'Tata Sumo Grande MKII GX', 'Volkswagen Polo Highline1.2L P',\n",
       "       'Tata Tiago Revotron XZ', 'Tata Indigo eCS',\n",
       "       'Mahindra Xylo E8 BS IV', 'Tata Sumo Gold FX BSIII',\n",
       "       'Hyundai Creta', 'Tata Bolt XM Petrol', 'Maruti Suzuki Ritz',\n",
       "       'Hyundai i20 Asta', 'Maruti Suzuki Swift Select Variant',\n",
       "       'Tata Indica V2 DLX BS III',\n",
       "       'Mahindra Scorpio VLX 2.2 mHawk Airbag BSIV',\n",
       "       'Toyota Innova 2.5 E 8 STR', 'Mahindra KUV100 K8 6 STR',\n",
       "       'Datsun Go Plus', 'Ford Endeavor 4x4 Thunder Plus',\n",
       "       'Tata Indica V2', 'Hyundai Santro Xing GL',\n",
       "       'Toyota Innova 2.5 Z Diesel 7 Seater', 'Maruti Suzuki Alto AX',\n",
       "       'Mahindra Logan', 'Maruti Suzuki 800 Std BS III',\n",
       "       'Chevrolet Sail 1.2 LS', 'Tata Manza', 'Toyota Etios G',\n",
       "       'Toyota Qualis', 'Mahindra Quanto C4', 'Maruti Suzuki Swift Dzire',\n",
       "       'Hyundai i20 Select Variant', 'Honda City VX Petrol',\n",
       "       'Hyundai Getz', 'Mercedes Benz C Class 200 K MT', 'Skoda Fabia',\n",
       "       'Maruti Suzuki Ritz VXI ABS', 'Tata Indica V2 DLE BS III',\n",
       "       'Tata Zest XM Diesel'], dtype=object)"
      ]
     },
     "execution_count": 106,
     "metadata": {},
     "output_type": "execute_result"
    }
   ],
   "source": [
    "car[\"name\"].unique()"
   ]
  },
  {
   "cell_type": "markdown",
   "metadata": {},
   "source": [
    "### name and company had spammed data...but with the previous cleaning, those rows got removed."
   ]
  },
  {
   "cell_type": "markdown",
   "metadata": {},
   "source": [
    "#### Company does not need any cleaning now. Changing car names. Keeping only the first three words"
   ]
  },
  {
   "cell_type": "code",
   "execution_count": 112,
   "metadata": {},
   "outputs": [],
   "source": [
    "car['name']=car['name'].str.split().str.slice(start=0,stop=3).str.join(' ')"
   ]
  },
  {
   "cell_type": "code",
   "execution_count": 113,
   "metadata": {
    "collapsed": true
   },
   "outputs": [
    {
     "data": {
      "text/plain": [
       "0         Hyundai Santro Xing\n",
       "1         Mahindra Jeep CL550\n",
       "3           Hyundai Grand i10\n",
       "4      Ford EcoSport Titanium\n",
       "6                   Ford Figo\n",
       "                ...          \n",
       "883        Maruti Suzuki Ritz\n",
       "885            Tata Indica V2\n",
       "886      Toyota Corolla Altis\n",
       "888              Tata Zest XM\n",
       "889        Mahindra Quanto C8\n",
       "Name: name, Length: 816, dtype: object"
      ]
     },
     "execution_count": 113,
     "metadata": {},
     "output_type": "execute_result"
    }
   ],
   "source": [
    "car['name']"
   ]
  },
  {
   "cell_type": "code",
   "execution_count": 119,
   "metadata": {},
   "outputs": [
    {
     "data": {
      "text/plain": [
       "'Mahindra Jeep CL550'"
      ]
     },
     "execution_count": 119,
     "metadata": {},
     "output_type": "execute_result"
    }
   ],
   "source": [
    "\" \".join(car['name'][1].split()[0:3])"
   ]
  },
  {
   "cell_type": "markdown",
   "metadata": {},
   "source": [
    "#### Resetting the index of the final cleaned data"
   ]
  },
  {
   "cell_type": "code",
   "execution_count": 120,
   "metadata": {},
   "outputs": [],
   "source": [
    "car=car.reset_index(drop=True)"
   ]
  },
  {
   "cell_type": "markdown",
   "metadata": {},
   "source": [
    "## Cleaned Data"
   ]
  },
  {
   "cell_type": "code",
   "execution_count": 121,
   "metadata": {},
   "outputs": [
    {
     "data": {
      "text/html": [
       "<div>\n",
       "<style scoped>\n",
       "    .dataframe tbody tr th:only-of-type {\n",
       "        vertical-align: middle;\n",
       "    }\n",
       "\n",
       "    .dataframe tbody tr th {\n",
       "        vertical-align: top;\n",
       "    }\n",
       "\n",
       "    .dataframe thead th {\n",
       "        text-align: right;\n",
       "    }\n",
       "</style>\n",
       "<table border=\"1\" class=\"dataframe\">\n",
       "  <thead>\n",
       "    <tr style=\"text-align: right;\">\n",
       "      <th></th>\n",
       "      <th>name</th>\n",
       "      <th>company</th>\n",
       "      <th>year</th>\n",
       "      <th>Price</th>\n",
       "      <th>kms_driven</th>\n",
       "      <th>fuel_type</th>\n",
       "    </tr>\n",
       "  </thead>\n",
       "  <tbody>\n",
       "    <tr>\n",
       "      <th>0</th>\n",
       "      <td>Hyundai Santro Xing</td>\n",
       "      <td>Hyundai</td>\n",
       "      <td>2007</td>\n",
       "      <td>80000</td>\n",
       "      <td>45000</td>\n",
       "      <td>Petrol</td>\n",
       "    </tr>\n",
       "    <tr>\n",
       "      <th>1</th>\n",
       "      <td>Mahindra Jeep CL550</td>\n",
       "      <td>Mahindra</td>\n",
       "      <td>2006</td>\n",
       "      <td>425000</td>\n",
       "      <td>40</td>\n",
       "      <td>Diesel</td>\n",
       "    </tr>\n",
       "    <tr>\n",
       "      <th>2</th>\n",
       "      <td>Hyundai Grand i10</td>\n",
       "      <td>Hyundai</td>\n",
       "      <td>2014</td>\n",
       "      <td>325000</td>\n",
       "      <td>28000</td>\n",
       "      <td>Petrol</td>\n",
       "    </tr>\n",
       "    <tr>\n",
       "      <th>3</th>\n",
       "      <td>Ford EcoSport Titanium</td>\n",
       "      <td>Ford</td>\n",
       "      <td>2014</td>\n",
       "      <td>575000</td>\n",
       "      <td>36000</td>\n",
       "      <td>Diesel</td>\n",
       "    </tr>\n",
       "    <tr>\n",
       "      <th>4</th>\n",
       "      <td>Ford Figo</td>\n",
       "      <td>Ford</td>\n",
       "      <td>2012</td>\n",
       "      <td>175000</td>\n",
       "      <td>41000</td>\n",
       "      <td>Diesel</td>\n",
       "    </tr>\n",
       "    <tr>\n",
       "      <th>...</th>\n",
       "      <td>...</td>\n",
       "      <td>...</td>\n",
       "      <td>...</td>\n",
       "      <td>...</td>\n",
       "      <td>...</td>\n",
       "      <td>...</td>\n",
       "    </tr>\n",
       "    <tr>\n",
       "      <th>811</th>\n",
       "      <td>Maruti Suzuki Ritz</td>\n",
       "      <td>Maruti</td>\n",
       "      <td>2011</td>\n",
       "      <td>270000</td>\n",
       "      <td>50000</td>\n",
       "      <td>Petrol</td>\n",
       "    </tr>\n",
       "    <tr>\n",
       "      <th>812</th>\n",
       "      <td>Tata Indica V2</td>\n",
       "      <td>Tata</td>\n",
       "      <td>2009</td>\n",
       "      <td>110000</td>\n",
       "      <td>30000</td>\n",
       "      <td>Diesel</td>\n",
       "    </tr>\n",
       "    <tr>\n",
       "      <th>813</th>\n",
       "      <td>Toyota Corolla Altis</td>\n",
       "      <td>Toyota</td>\n",
       "      <td>2009</td>\n",
       "      <td>300000</td>\n",
       "      <td>132000</td>\n",
       "      <td>Petrol</td>\n",
       "    </tr>\n",
       "    <tr>\n",
       "      <th>814</th>\n",
       "      <td>Tata Zest XM</td>\n",
       "      <td>Tata</td>\n",
       "      <td>2018</td>\n",
       "      <td>260000</td>\n",
       "      <td>27000</td>\n",
       "      <td>Diesel</td>\n",
       "    </tr>\n",
       "    <tr>\n",
       "      <th>815</th>\n",
       "      <td>Mahindra Quanto C8</td>\n",
       "      <td>Mahindra</td>\n",
       "      <td>2013</td>\n",
       "      <td>390000</td>\n",
       "      <td>40000</td>\n",
       "      <td>Diesel</td>\n",
       "    </tr>\n",
       "  </tbody>\n",
       "</table>\n",
       "<p>816 rows × 6 columns</p>\n",
       "</div>"
      ],
      "text/plain": [
       "                       name   company  year   Price  kms_driven fuel_type\n",
       "0       Hyundai Santro Xing   Hyundai  2007   80000       45000    Petrol\n",
       "1       Mahindra Jeep CL550  Mahindra  2006  425000          40    Diesel\n",
       "2         Hyundai Grand i10   Hyundai  2014  325000       28000    Petrol\n",
       "3    Ford EcoSport Titanium      Ford  2014  575000       36000    Diesel\n",
       "4                 Ford Figo      Ford  2012  175000       41000    Diesel\n",
       "..                      ...       ...   ...     ...         ...       ...\n",
       "811      Maruti Suzuki Ritz    Maruti  2011  270000       50000    Petrol\n",
       "812          Tata Indica V2      Tata  2009  110000       30000    Diesel\n",
       "813    Toyota Corolla Altis    Toyota  2009  300000      132000    Petrol\n",
       "814            Tata Zest XM      Tata  2018  260000       27000    Diesel\n",
       "815      Mahindra Quanto C8  Mahindra  2013  390000       40000    Diesel\n",
       "\n",
       "[816 rows x 6 columns]"
      ]
     },
     "execution_count": 121,
     "metadata": {},
     "output_type": "execute_result"
    }
   ],
   "source": [
    "car"
   ]
  },
  {
   "cell_type": "code",
   "execution_count": 122,
   "metadata": {},
   "outputs": [],
   "source": [
    "car.to_csv('Cleaned_Car_data.csv')"
   ]
  },
  {
   "cell_type": "code",
   "execution_count": 124,
   "metadata": {},
   "outputs": [
    {
     "name": "stdout",
     "output_type": "stream",
     "text": [
      "<class 'pandas.core.frame.DataFrame'>\n",
      "RangeIndex: 816 entries, 0 to 815\n",
      "Data columns (total 6 columns):\n",
      " #   Column      Non-Null Count  Dtype \n",
      "---  ------      --------------  ----- \n",
      " 0   name        816 non-null    object\n",
      " 1   company     816 non-null    object\n",
      " 2   year        816 non-null    int64 \n",
      " 3   Price       816 non-null    int64 \n",
      " 4   kms_driven  816 non-null    int64 \n",
      " 5   fuel_type   816 non-null    object\n",
      "dtypes: int64(3), object(3)\n",
      "memory usage: 38.4+ KB\n"
     ]
    }
   ],
   "source": [
    "car.info()"
   ]
  },
  {
   "cell_type": "code",
   "execution_count": 126,
   "metadata": {},
   "outputs": [
    {
     "data": {
      "text/html": [
       "<div>\n",
       "<style scoped>\n",
       "    .dataframe tbody tr th:only-of-type {\n",
       "        vertical-align: middle;\n",
       "    }\n",
       "\n",
       "    .dataframe tbody tr th {\n",
       "        vertical-align: top;\n",
       "    }\n",
       "\n",
       "    .dataframe thead th {\n",
       "        text-align: right;\n",
       "    }\n",
       "</style>\n",
       "<table border=\"1\" class=\"dataframe\">\n",
       "  <thead>\n",
       "    <tr style=\"text-align: right;\">\n",
       "      <th></th>\n",
       "      <th>name</th>\n",
       "      <th>company</th>\n",
       "      <th>year</th>\n",
       "      <th>Price</th>\n",
       "      <th>kms_driven</th>\n",
       "      <th>fuel_type</th>\n",
       "    </tr>\n",
       "  </thead>\n",
       "  <tbody>\n",
       "    <tr>\n",
       "      <th>count</th>\n",
       "      <td>816</td>\n",
       "      <td>816</td>\n",
       "      <td>816.000000</td>\n",
       "      <td>8.160000e+02</td>\n",
       "      <td>816.000000</td>\n",
       "      <td>816</td>\n",
       "    </tr>\n",
       "    <tr>\n",
       "      <th>unique</th>\n",
       "      <td>254</td>\n",
       "      <td>25</td>\n",
       "      <td>NaN</td>\n",
       "      <td>NaN</td>\n",
       "      <td>NaN</td>\n",
       "      <td>3</td>\n",
       "    </tr>\n",
       "    <tr>\n",
       "      <th>top</th>\n",
       "      <td>Maruti Suzuki Swift</td>\n",
       "      <td>Maruti</td>\n",
       "      <td>NaN</td>\n",
       "      <td>NaN</td>\n",
       "      <td>NaN</td>\n",
       "      <td>Petrol</td>\n",
       "    </tr>\n",
       "    <tr>\n",
       "      <th>freq</th>\n",
       "      <td>51</td>\n",
       "      <td>221</td>\n",
       "      <td>NaN</td>\n",
       "      <td>NaN</td>\n",
       "      <td>NaN</td>\n",
       "      <td>428</td>\n",
       "    </tr>\n",
       "    <tr>\n",
       "      <th>mean</th>\n",
       "      <td>NaN</td>\n",
       "      <td>NaN</td>\n",
       "      <td>2012.444853</td>\n",
       "      <td>4.117176e+05</td>\n",
       "      <td>46275.531863</td>\n",
       "      <td>NaN</td>\n",
       "    </tr>\n",
       "    <tr>\n",
       "      <th>std</th>\n",
       "      <td>NaN</td>\n",
       "      <td>NaN</td>\n",
       "      <td>4.002992</td>\n",
       "      <td>4.751844e+05</td>\n",
       "      <td>34297.428044</td>\n",
       "      <td>NaN</td>\n",
       "    </tr>\n",
       "    <tr>\n",
       "      <th>min</th>\n",
       "      <td>NaN</td>\n",
       "      <td>NaN</td>\n",
       "      <td>1995.000000</td>\n",
       "      <td>3.000000e+04</td>\n",
       "      <td>0.000000</td>\n",
       "      <td>NaN</td>\n",
       "    </tr>\n",
       "    <tr>\n",
       "      <th>25%</th>\n",
       "      <td>NaN</td>\n",
       "      <td>NaN</td>\n",
       "      <td>2010.000000</td>\n",
       "      <td>1.750000e+05</td>\n",
       "      <td>27000.000000</td>\n",
       "      <td>NaN</td>\n",
       "    </tr>\n",
       "    <tr>\n",
       "      <th>50%</th>\n",
       "      <td>NaN</td>\n",
       "      <td>NaN</td>\n",
       "      <td>2013.000000</td>\n",
       "      <td>2.999990e+05</td>\n",
       "      <td>41000.000000</td>\n",
       "      <td>NaN</td>\n",
       "    </tr>\n",
       "    <tr>\n",
       "      <th>75%</th>\n",
       "      <td>NaN</td>\n",
       "      <td>NaN</td>\n",
       "      <td>2015.000000</td>\n",
       "      <td>4.912500e+05</td>\n",
       "      <td>56818.500000</td>\n",
       "      <td>NaN</td>\n",
       "    </tr>\n",
       "    <tr>\n",
       "      <th>max</th>\n",
       "      <td>NaN</td>\n",
       "      <td>NaN</td>\n",
       "      <td>2019.000000</td>\n",
       "      <td>8.500003e+06</td>\n",
       "      <td>400000.000000</td>\n",
       "      <td>NaN</td>\n",
       "    </tr>\n",
       "  </tbody>\n",
       "</table>\n",
       "</div>"
      ],
      "text/plain": [
       "                       name company         year         Price     kms_driven  \\\n",
       "count                   816     816   816.000000  8.160000e+02     816.000000   \n",
       "unique                  254      25          NaN           NaN            NaN   \n",
       "top     Maruti Suzuki Swift  Maruti          NaN           NaN            NaN   \n",
       "freq                     51     221          NaN           NaN            NaN   \n",
       "mean                    NaN     NaN  2012.444853  4.117176e+05   46275.531863   \n",
       "std                     NaN     NaN     4.002992  4.751844e+05   34297.428044   \n",
       "min                     NaN     NaN  1995.000000  3.000000e+04       0.000000   \n",
       "25%                     NaN     NaN  2010.000000  1.750000e+05   27000.000000   \n",
       "50%                     NaN     NaN  2013.000000  2.999990e+05   41000.000000   \n",
       "75%                     NaN     NaN  2015.000000  4.912500e+05   56818.500000   \n",
       "max                     NaN     NaN  2019.000000  8.500003e+06  400000.000000   \n",
       "\n",
       "       fuel_type  \n",
       "count        816  \n",
       "unique         3  \n",
       "top       Petrol  \n",
       "freq         428  \n",
       "mean         NaN  \n",
       "std          NaN  \n",
       "min          NaN  \n",
       "25%          NaN  \n",
       "50%          NaN  \n",
       "75%          NaN  \n",
       "max          NaN  "
      ]
     },
     "execution_count": 126,
     "metadata": {},
     "output_type": "execute_result"
    }
   ],
   "source": [
    "car.describe(include='all')"
   ]
  },
  {
   "cell_type": "code",
   "execution_count": 127,
   "metadata": {},
   "outputs": [],
   "source": [
    "car=car[car['Price']<6000000]"
   ]
  },
  {
   "cell_type": "markdown",
   "metadata": {},
   "source": [
    "### Checking relationship of Company with Price"
   ]
  },
  {
   "cell_type": "code",
   "execution_count": 128,
   "metadata": {},
   "outputs": [
    {
     "data": {
      "text/plain": [
       "array(['Hyundai', 'Mahindra', 'Ford', 'Maruti', 'Skoda', 'Audi', 'Toyota',\n",
       "       'Renault', 'Honda', 'Datsun', 'Mitsubishi', 'Tata', 'Volkswagen',\n",
       "       'Chevrolet', 'Mini', 'BMW', 'Nissan', 'Hindustan', 'Fiat', 'Force',\n",
       "       'Mercedes', 'Land', 'Jaguar', 'Jeep', 'Volvo'], dtype=object)"
      ]
     },
     "execution_count": 128,
     "metadata": {},
     "output_type": "execute_result"
    }
   ],
   "source": [
    "car['company'].unique()"
   ]
  },
  {
   "cell_type": "code",
   "execution_count": 129,
   "metadata": {},
   "outputs": [],
   "source": [
    "import seaborn as sns"
   ]
  },
  {
   "cell_type": "code",
   "execution_count": 130,
   "metadata": {},
   "outputs": [
    {
     "data": {
      "image/png": "[encoded data removed]",
      "text/plain": [
       "<Figure size 1500x700 with 1 Axes>"
      ]
     },
     "metadata": {},
     "output_type": "display_data"
    }
   ],
   "source": [
    "plt.subplots(figsize=(15,7))\n",
    "ax=sns.boxplot(x='company',y='Price',data=car)\n",
    "ax.set_xticklabels(ax.get_xticklabels(),rotation=40,ha='right')\n",
    "plt.show()"
   ]
  },
  {
   "cell_type": "markdown",
   "metadata": {},
   "source": [
    "### Checking relationship of Year with Price"
   ]
  },
  {
   "cell_type": "code",
   "execution_count": 27,
   "metadata": {},
   "outputs": [
    {
     "data": {
      "image/png": "[encoded data removed]",
      "text/plain": [
       "<Figure size 1440x720 with 1 Axes>"
      ]
     },
     "metadata": {},
     "output_type": "display_data"
    }
   ],
   "source": [
    "plt.subplots(figsize=(20,10))\n",
    "ax=sns.swarmplot(x='year',y='Price',data=car)\n",
    "ax.set_xticklabels(ax.get_xticklabels(),rotation=40,ha='right')\n",
    "plt.show()"
   ]
  },
  {
   "cell_type": "markdown",
   "metadata": {},
   "source": [
    "### Checking relationship of kms_driven with Price"
   ]
  },
  {
   "cell_type": "code",
   "execution_count": 131,
   "metadata": {},
   "outputs": [
    {
     "data": {
      "text/plain": [
       "<seaborn.axisgrid.FacetGrid at 0x7f6b6bb21370>"
      ]
     },
     "execution_count": 131,
     "metadata": {},
     "output_type": "execute_result"
    },
    {
     "data": {
      "image/png": "[encoded data removed]",
      "text/plain": [
       "<Figure size 1050x700 with 1 Axes>"
      ]
     },
     "metadata": {},
     "output_type": "display_data"
    }
   ],
   "source": [
    "sns.relplot(x='kms_driven',y='Price',data=car,height=7,aspect=1.5)"
   ]
  },
  {
   "cell_type": "markdown",
   "metadata": {},
   "source": [
    "### Checking relationship of Fuel Type with Price"
   ]
  },
  {
   "cell_type": "code",
   "execution_count": 132,
   "metadata": {},
   "outputs": [
    {
     "data": {
      "text/plain": [
       "<AxesSubplot:xlabel='fuel_type', ylabel='Price'>"
      ]
     },
     "execution_count": 132,
     "metadata": {},
     "output_type": "execute_result"
    },
    {
     "data": {
      "image/png": "[encoded data removed]",
      "text/plain": [
       "<Figure size 1400x700 with 1 Axes>"
      ]
     },
     "metadata": {},
     "output_type": "display_data"
    }
   ],
   "source": [
    "plt.subplots(figsize=(14,7))\n",
    "sns.boxplot(x='fuel_type',y='Price',data=car)"
   ]
  },
  {
   "cell_type": "markdown",
   "metadata": {},
   "source": [
    "### Relationship of Price with FuelType, Year and Company mixed"
   ]
  },
  {
   "cell_type": "code",
   "execution_count": 133,
   "metadata": {},
   "outputs": [
    {
     "data": {
      "text/plain": [
       "<seaborn.axisgrid.FacetGrid at 0x7f6b698d6c40>"
      ]
     },
     "execution_count": 133,
     "metadata": {},
     "output_type": "execute_result"
    },
    {
     "data": {
      "image/png": "[encoded data removed]",
      "text/plain": [
       "<Figure size 1492.62x700 with 1 Axes>"
      ]
     },
     "metadata": {},
     "output_type": "display_data"
    }
   ],
   "source": [
    "ax=sns.relplot(x='company',y='Price',data=car,hue='fuel_type',size='year',height=7,aspect=2)\n",
    "ax.set_xticklabels(rotation=40,ha='right')"
   ]
  },
  {
   "cell_type": "markdown",
   "metadata": {},
   "source": [
    "### Extracting Training Data"
   ]
  },
  {
   "cell_type": "code",
   "execution_count": 134,
   "metadata": {},
   "outputs": [],
   "source": [
    "X=car[['name','company','year','kms_driven','fuel_type']]\n",
    "y=car['Price']"
   ]
  },
  {
   "cell_type": "code",
   "execution_count": 155,
   "metadata": {},
   "outputs": [
    {
     "data": {
      "text/html": [
       "<div>\n",
       "<style scoped>\n",
       "    .dataframe tbody tr th:only-of-type {\n",
       "        vertical-align: middle;\n",
       "    }\n",
       "\n",
       "    .dataframe tbody tr th {\n",
       "        vertical-align: top;\n",
       "    }\n",
       "\n",
       "    .dataframe thead th {\n",
       "        text-align: right;\n",
       "    }\n",
       "</style>\n",
       "<table border=\"1\" class=\"dataframe\">\n",
       "  <thead>\n",
       "    <tr style=\"text-align: right;\">\n",
       "      <th></th>\n",
       "      <th>name_Audi A3 Cabriolet</th>\n",
       "      <th>name_Audi A4 1.8</th>\n",
       "      <th>name_Audi A4 2.0</th>\n",
       "      <th>name_Audi A6 2.0</th>\n",
       "      <th>name_Audi A8</th>\n",
       "      <th>name_Audi Q3 2.0</th>\n",
       "      <th>name_Audi Q5 2.0</th>\n",
       "      <th>name_Audi Q7</th>\n",
       "      <th>name_BMW 3 Series</th>\n",
       "      <th>name_BMW 5 Series</th>\n",
       "      <th>...</th>\n",
       "      <th>company_Nissan</th>\n",
       "      <th>company_Renault</th>\n",
       "      <th>company_Skoda</th>\n",
       "      <th>company_Tata</th>\n",
       "      <th>company_Toyota</th>\n",
       "      <th>company_Volkswagen</th>\n",
       "      <th>company_Volvo</th>\n",
       "      <th>fuel_type_Diesel</th>\n",
       "      <th>fuel_type_LPG</th>\n",
       "      <th>fuel_type_Petrol</th>\n",
       "    </tr>\n",
       "  </thead>\n",
       "  <tbody>\n",
       "    <tr>\n",
       "      <th>0</th>\n",
       "      <td>0</td>\n",
       "      <td>0</td>\n",
       "      <td>0</td>\n",
       "      <td>0</td>\n",
       "      <td>0</td>\n",
       "      <td>0</td>\n",
       "      <td>0</td>\n",
       "      <td>0</td>\n",
       "      <td>0</td>\n",
       "      <td>0</td>\n",
       "      <td>...</td>\n",
       "      <td>0</td>\n",
       "      <td>0</td>\n",
       "      <td>0</td>\n",
       "      <td>0</td>\n",
       "      <td>0</td>\n",
       "      <td>0</td>\n",
       "      <td>0</td>\n",
       "      <td>0</td>\n",
       "      <td>0</td>\n",
       "      <td>1</td>\n",
       "    </tr>\n",
       "    <tr>\n",
       "      <th>1</th>\n",
       "      <td>0</td>\n",
       "      <td>0</td>\n",
       "      <td>0</td>\n",
       "      <td>0</td>\n",
       "      <td>0</td>\n",
       "      <td>0</td>\n",
       "      <td>0</td>\n",
       "      <td>0</td>\n",
       "      <td>0</td>\n",
       "      <td>0</td>\n",
       "      <td>...</td>\n",
       "      <td>0</td>\n",
       "      <td>0</td>\n",
       "      <td>0</td>\n",
       "      <td>0</td>\n",
       "      <td>0</td>\n",
       "      <td>0</td>\n",
       "      <td>0</td>\n",
       "      <td>1</td>\n",
       "      <td>0</td>\n",
       "      <td>0</td>\n",
       "    </tr>\n",
       "    <tr>\n",
       "      <th>2</th>\n",
       "      <td>0</td>\n",
       "      <td>0</td>\n",
       "      <td>0</td>\n",
       "      <td>0</td>\n",
       "      <td>0</td>\n",
       "      <td>0</td>\n",
       "      <td>0</td>\n",
       "      <td>0</td>\n",
       "      <td>0</td>\n",
       "      <td>0</td>\n",
       "      <td>...</td>\n",
       "      <td>0</td>\n",
       "      <td>0</td>\n",
       "      <td>0</td>\n",
       "      <td>0</td>\n",
       "      <td>0</td>\n",
       "      <td>0</td>\n",
       "      <td>0</td>\n",
       "      <td>0</td>\n",
       "      <td>0</td>\n",
       "      <td>1</td>\n",
       "    </tr>\n",
       "    <tr>\n",
       "      <th>3</th>\n",
       "      <td>0</td>\n",
       "      <td>0</td>\n",
       "      <td>0</td>\n",
       "      <td>0</td>\n",
       "      <td>0</td>\n",
       "      <td>0</td>\n",
       "      <td>0</td>\n",
       "      <td>0</td>\n",
       "      <td>0</td>\n",
       "      <td>0</td>\n",
       "      <td>...</td>\n",
       "      <td>0</td>\n",
       "      <td>0</td>\n",
       "      <td>0</td>\n",
       "      <td>0</td>\n",
       "      <td>0</td>\n",
       "      <td>0</td>\n",
       "      <td>0</td>\n",
       "      <td>1</td>\n",
       "      <td>0</td>\n",
       "      <td>0</td>\n",
       "    </tr>\n",
       "    <tr>\n",
       "      <th>4</th>\n",
       "      <td>0</td>\n",
       "      <td>0</td>\n",
       "      <td>0</td>\n",
       "      <td>0</td>\n",
       "      <td>0</td>\n",
       "      <td>0</td>\n",
       "      <td>0</td>\n",
       "      <td>0</td>\n",
       "      <td>0</td>\n",
       "      <td>0</td>\n",
       "      <td>...</td>\n",
       "      <td>0</td>\n",
       "      <td>0</td>\n",
       "      <td>0</td>\n",
       "      <td>0</td>\n",
       "      <td>0</td>\n",
       "      <td>0</td>\n",
       "      <td>0</td>\n",
       "      <td>1</td>\n",
       "      <td>0</td>\n",
       "      <td>0</td>\n",
       "    </tr>\n",
       "    <tr>\n",
       "      <th>...</th>\n",
       "      <td>...</td>\n",
       "      <td>...</td>\n",
       "      <td>...</td>\n",
       "      <td>...</td>\n",
       "      <td>...</td>\n",
       "      <td>...</td>\n",
       "      <td>...</td>\n",
       "      <td>...</td>\n",
       "      <td>...</td>\n",
       "      <td>...</td>\n",
       "      <td>...</td>\n",
       "      <td>...</td>\n",
       "      <td>...</td>\n",
       "      <td>...</td>\n",
       "      <td>...</td>\n",
       "      <td>...</td>\n",
       "      <td>...</td>\n",
       "      <td>...</td>\n",
       "      <td>...</td>\n",
       "      <td>...</td>\n",
       "      <td>...</td>\n",
       "    </tr>\n",
       "    <tr>\n",
       "      <th>811</th>\n",
       "      <td>0</td>\n",
       "      <td>0</td>\n",
       "      <td>0</td>\n",
       "      <td>0</td>\n",
       "      <td>0</td>\n",
       "      <td>0</td>\n",
       "      <td>0</td>\n",
       "      <td>0</td>\n",
       "      <td>0</td>\n",
       "      <td>0</td>\n",
       "      <td>...</td>\n",
       "      <td>0</td>\n",
       "      <td>0</td>\n",
       "      <td>0</td>\n",
       "      <td>0</td>\n",
       "      <td>0</td>\n",
       "      <td>0</td>\n",
       "      <td>0</td>\n",
       "      <td>0</td>\n",
       "      <td>0</td>\n",
       "      <td>1</td>\n",
       "    </tr>\n",
       "    <tr>\n",
       "      <th>812</th>\n",
       "      <td>0</td>\n",
       "      <td>0</td>\n",
       "      <td>0</td>\n",
       "      <td>0</td>\n",
       "      <td>0</td>\n",
       "      <td>0</td>\n",
       "      <td>0</td>\n",
       "      <td>0</td>\n",
       "      <td>0</td>\n",
       "      <td>0</td>\n",
       "      <td>...</td>\n",
       "      <td>0</td>\n",
       "      <td>0</td>\n",
       "      <td>0</td>\n",
       "      <td>1</td>\n",
       "      <td>0</td>\n",
       "      <td>0</td>\n",
       "      <td>0</td>\n",
       "      <td>1</td>\n",
       "      <td>0</td>\n",
       "      <td>0</td>\n",
       "    </tr>\n",
       "    <tr>\n",
       "      <th>813</th>\n",
       "      <td>0</td>\n",
       "      <td>0</td>\n",
       "      <td>0</td>\n",
       "      <td>0</td>\n",
       "      <td>0</td>\n",
       "      <td>0</td>\n",
       "      <td>0</td>\n",
       "      <td>0</td>\n",
       "      <td>0</td>\n",
       "      <td>0</td>\n",
       "      <td>...</td>\n",
       "      <td>0</td>\n",
       "      <td>0</td>\n",
       "      <td>0</td>\n",
       "      <td>0</td>\n",
       "      <td>1</td>\n",
       "      <td>0</td>\n",
       "      <td>0</td>\n",
       "      <td>0</td>\n",
       "      <td>0</td>\n",
       "      <td>1</td>\n",
       "    </tr>\n",
       "    <tr>\n",
       "      <th>814</th>\n",
       "      <td>0</td>\n",
       "      <td>0</td>\n",
       "      <td>0</td>\n",
       "      <td>0</td>\n",
       "      <td>0</td>\n",
       "      <td>0</td>\n",
       "      <td>0</td>\n",
       "      <td>0</td>\n",
       "      <td>0</td>\n",
       "      <td>0</td>\n",
       "      <td>...</td>\n",
       "      <td>0</td>\n",
       "      <td>0</td>\n",
       "      <td>0</td>\n",
       "      <td>1</td>\n",
       "      <td>0</td>\n",
       "      <td>0</td>\n",
       "      <td>0</td>\n",
       "      <td>1</td>\n",
       "      <td>0</td>\n",
       "      <td>0</td>\n",
       "    </tr>\n",
       "    <tr>\n",
       "      <th>815</th>\n",
       "      <td>0</td>\n",
       "      <td>0</td>\n",
       "      <td>0</td>\n",
       "      <td>0</td>\n",
       "      <td>0</td>\n",
       "      <td>0</td>\n",
       "      <td>0</td>\n",
       "      <td>0</td>\n",
       "      <td>0</td>\n",
       "      <td>0</td>\n",
       "      <td>...</td>\n",
       "      <td>0</td>\n",
       "      <td>0</td>\n",
       "      <td>0</td>\n",
       "      <td>0</td>\n",
       "      <td>0</td>\n",
       "      <td>0</td>\n",
       "      <td>0</td>\n",
       "      <td>1</td>\n",
       "      <td>0</td>\n",
       "      <td>0</td>\n",
       "    </tr>\n",
       "  </tbody>\n",
       "</table>\n",
       "<p>815 rows × 282 columns</p>\n",
       "</div>"
      ],
      "text/plain": [
       "     name_Audi A3 Cabriolet  name_Audi A4 1.8  name_Audi A4 2.0  \\\n",
       "0                         0                 0                 0   \n",
       "1                         0                 0                 0   \n",
       "2                         0                 0                 0   \n",
       "3                         0                 0                 0   \n",
       "4                         0                 0                 0   \n",
       "..                      ...               ...               ...   \n",
       "811                       0                 0                 0   \n",
       "812                       0                 0                 0   \n",
       "813                       0                 0                 0   \n",
       "814                       0                 0                 0   \n",
       "815                       0                 0                 0   \n",
       "\n",
       "     name_Audi A6 2.0  name_Audi A8  name_Audi Q3 2.0  name_Audi Q5 2.0  \\\n",
       "0                   0             0                 0                 0   \n",
       "1                   0             0                 0                 0   \n",
       "2                   0             0                 0                 0   \n",
       "3                   0             0                 0                 0   \n",
       "4                   0             0                 0                 0   \n",
       "..                ...           ...               ...               ...   \n",
       "811                 0             0                 0                 0   \n",
       "812                 0             0                 0                 0   \n",
       "813                 0             0                 0                 0   \n",
       "814                 0             0                 0                 0   \n",
       "815                 0             0                 0                 0   \n",
       "\n",
       "     name_Audi Q7  name_BMW 3 Series  name_BMW 5 Series  ...  company_Nissan  \\\n",
       "0               0                  0                  0  ...               0   \n",
       "1               0                  0                  0  ...               0   \n",
       "2               0                  0                  0  ...               0   \n",
       "3               0                  0                  0  ...               0   \n",
       "4               0                  0                  0  ...               0   \n",
       "..            ...                ...                ...  ...             ...   \n",
       "811             0                  0                  0  ...               0   \n",
       "812             0                  0                  0  ...               0   \n",
       "813             0                  0                  0  ...               0   \n",
       "814             0                  0                  0  ...               0   \n",
       "815             0                  0                  0  ...               0   \n",
       "\n",
       "     company_Renault  company_Skoda  company_Tata  company_Toyota  \\\n",
       "0                  0              0             0               0   \n",
       "1                  0              0             0               0   \n",
       "2                  0              0             0               0   \n",
       "3                  0              0             0               0   \n",
       "4                  0              0             0               0   \n",
       "..               ...            ...           ...             ...   \n",
       "811                0              0             0               0   \n",
       "812                0              0             1               0   \n",
       "813                0              0             0               1   \n",
       "814                0              0             1               0   \n",
       "815                0              0             0               0   \n",
       "\n",
       "     company_Volkswagen  company_Volvo  fuel_type_Diesel  fuel_type_LPG  \\\n",
       "0                     0              0                 0              0   \n",
       "1                     0              0                 1              0   \n",
       "2                     0              0                 0              0   \n",
       "3                     0              0                 1              0   \n",
       "4                     0              0                 1              0   \n",
       "..                  ...            ...               ...            ...   \n",
       "811                   0              0                 0              0   \n",
       "812                   0              0                 1              0   \n",
       "813                   0              0                 0              0   \n",
       "814                   0              0                 1              0   \n",
       "815                   0              0                 1              0   \n",
       "\n",
       "     fuel_type_Petrol  \n",
       "0                   1  \n",
       "1                   0  \n",
       "2                   1  \n",
       "3                   0  \n",
       "4                   0  \n",
       "..                ...  \n",
       "811                 1  \n",
       "812                 0  \n",
       "813                 1  \n",
       "814                 0  \n",
       "815                 0  \n",
       "\n",
       "[815 rows x 282 columns]"
      ]
     },
     "execution_count": 155,
     "metadata": {},
     "output_type": "execute_result"
    }
   ],
   "source": [
    "pd.get_dummies(X[['name','company','fuel_type']])"
   ]
  },
  {
   "cell_type": "code",
   "execution_count": 136,
   "metadata": {},
   "outputs": [
    {
     "data": {
      "text/plain": [
       "(815,)"
      ]
     },
     "execution_count": 136,
     "metadata": {},
     "output_type": "execute_result"
    }
   ],
   "source": [
    "y.shape"
   ]
  },
  {
   "cell_type": "markdown",
   "metadata": {},
   "source": [
    "### Applying Train Test Split"
   ]
  },
  {
   "cell_type": "code",
   "execution_count": 137,
   "metadata": {},
   "outputs": [],
   "source": [
    "from sklearn.model_selection import train_test_split\n",
    "X_train,X_test,y_train,y_test=train_test_split(X,y,test_size=0.2)"
   ]
  },
  {
   "cell_type": "code",
   "execution_count": 138,
   "metadata": {},
   "outputs": [],
   "source": [
    "from sklearn.linear_model import LinearRegression"
   ]
  },
  {
   "cell_type": "code",
   "execution_count": 139,
   "metadata": {},
   "outputs": [],
   "source": [
    "from sklearn.preprocessing import OneHotEncoder\n",
    "from sklearn.compose import make_column_transformer\n",
    "from sklearn.pipeline import make_pipeline\n",
    "from sklearn.metrics import r2_score"
   ]
  },
  {
   "cell_type": "markdown",
   "metadata": {},
   "source": [
    "#### Creating an OneHotEncoder object to contain all the possible categories"
   ]
  },
  {
   "cell_type": "code",
   "execution_count": 140,
   "metadata": {},
   "outputs": [
    {
     "data": {
      "text/html": [
       "<style>#sk-container-id-1 {color: black;background-color: white;}#sk-container-id-1 pre{padding: 0;}#sk-container-id-1 div.sk-toggleable {background-color: white;}#sk-container-id-1 label.sk-toggleable__label {cursor: pointer;display: block;width: 100%;margin-bottom: 0;padding: 0.3em;box-sizing: border-box;text-align: center;}#sk-container-id-1 label.sk-toggleable__label-arrow:before {content: \"▸\";float: left;margin-right: 0.25em;color: #696969;}#sk-container-id-1 label.sk-toggleable__label-arrow:hover:before {color: black;}#sk-container-id-1 div.sk-estimator:hover label.sk-toggleable__label-arrow:before {color: black;}#sk-container-id-1 div.sk-toggleable__content {max-height: 0;max-width: 0;overflow: hidden;text-align: left;background-color: #f0f8ff;}#sk-container-id-1 div.sk-toggleable__content pre {margin: 0.2em;color: black;border-radius: 0.25em;background-color: #f0f8ff;}#sk-container-id-1 input.sk-toggleable__control:checked~div.sk-toggleable__content {max-height: 200px;max-width: 100%;overflow: auto;}#sk-container-id-1 input.sk-toggleable__control:checked~label.sk-toggleable__label-arrow:before {content: \"▾\";}#sk-container-id-1 div.sk-estimator input.sk-toggleable__control:checked~label.sk-toggleable__label {background-color: #d4ebff;}#sk-container-id-1 div.sk-label input.sk-toggleable__control:checked~label.sk-toggleable__label {background-color: #d4ebff;}#sk-container-id-1 input.sk-hidden--visually {border: 0;clip: rect(1px 1px 1px 1px);clip: rect(1px, 1px, 1px, 1px);height: 1px;margin: -1px;overflow: hidden;padding: 0;position: absolute;width: 1px;}#sk-container-id-1 div.sk-estimator {font-family: monospace;background-color: #f0f8ff;border: 1px dotted black;border-radius: 0.25em;box-sizing: border-box;margin-bottom: 0.5em;}#sk-container-id-1 div.sk-estimator:hover {background-color: #d4ebff;}#sk-container-id-1 div.sk-parallel-item::after {content: \"\";width: 100%;border-bottom: 1px solid gray;flex-grow: 1;}#sk-container-id-1 div.sk-label:hover label.sk-toggleable__label {background-color: #d4ebff;}#sk-container-id-1 div.sk-serial::before {content: \"\";position: absolute;border-left: 1px solid gray;box-sizing: border-box;top: 0;bottom: 0;left: 50%;z-index: 0;}#sk-container-id-1 div.sk-serial {display: flex;flex-direction: column;align-items: center;background-color: white;padding-right: 0.2em;padding-left: 0.2em;position: relative;}#sk-container-id-1 div.sk-item {position: relative;z-index: 1;}#sk-container-id-1 div.sk-parallel {display: flex;align-items: stretch;justify-content: center;background-color: white;position: relative;}#sk-container-id-1 div.sk-item::before, #sk-container-id-1 div.sk-parallel-item::before {content: \"\";position: absolute;border-left: 1px solid gray;box-sizing: border-box;top: 0;bottom: 0;left: 50%;z-index: -1;}#sk-container-id-1 div.sk-parallel-item {display: flex;flex-direction: column;z-index: 1;position: relative;background-color: white;}#sk-container-id-1 div.sk-parallel-item:first-child::after {align-self: flex-end;width: 50%;}#sk-container-id-1 div.sk-parallel-item:last-child::after {align-self: flex-start;width: 50%;}#sk-container-id-1 div.sk-parallel-item:only-child::after {width: 0;}#sk-container-id-1 div.sk-dashed-wrapped {border: 1px dashed gray;margin: 0 0.4em 0.5em 0.4em;box-sizing: border-box;padding-bottom: 0.4em;background-color: white;}#sk-container-id-1 div.sk-label label {font-family: monospace;font-weight: bold;display: inline-block;line-height: 1.2em;}#sk-container-id-1 div.sk-label-container {text-align: center;}#sk-container-id-1 div.sk-container {/* jupyter's `normalize.less` sets `[hidden] { display: none; }` but bootstrap.min.css set `[hidden] { display: none !important; }` so we also need the `!important` here to be able to override the default hidden behavior on the sphinx rendered scikit-learn.org. See: https://github.com/scikit-learn/scikit-learn/issues/21755 */display: inline-block !important;position: relative;}#sk-container-id-1 div.sk-text-repr-fallback {display: none;}</style><div id=\"sk-container-id-1\" class=\"sk-top-container\"><div class=\"sk-text-repr-fallback\"><pre>OneHotEncoder()</pre><b>In a Jupyter environment, please rerun this cell to show the HTML representation or trust the notebook. <br />On GitHub, the HTML representation is unable to render, please try loading this page with nbviewer.org.</b></div><div class=\"sk-container\" hidden><div class=\"sk-item\"><div class=\"sk-estimator sk-toggleable\"><input class=\"sk-toggleable__control sk-hidden--visually\" id=\"sk-estimator-id-1\" type=\"checkbox\" checked><label for=\"sk-estimator-id-1\" class=\"sk-toggleable__label sk-toggleable__label-arrow\">OneHotEncoder</label><div class=\"sk-toggleable__content\"><pre>OneHotEncoder()</pre></div></div></div></div></div>"
      ],
      "text/plain": [
       "OneHotEncoder()"
      ]
     },
     "execution_count": 140,
     "metadata": {},
     "output_type": "execute_result"
    }
   ],
   "source": [
    "ohe=OneHotEncoder()\n",
    "ohe.fit(X[['name','company','fuel_type']])"
   ]
  },
  {
   "cell_type": "code",
   "execution_count": 156,
   "metadata": {
    "collapsed": true
   },
   "outputs": [
    {
     "data": {
      "text/plain": [
       "[array(['Audi A3 Cabriolet', 'Audi A4 1.8', 'Audi A4 2.0', 'Audi A6 2.0',\n",
       "        'Audi A8', 'Audi Q3 2.0', 'Audi Q5 2.0', 'Audi Q7', 'BMW 3 Series',\n",
       "        'BMW 5 Series', 'BMW 7 Series', 'BMW X1', 'BMW X1 sDrive20d',\n",
       "        'BMW X1 xDrive20d', 'Chevrolet Beat', 'Chevrolet Beat Diesel',\n",
       "        'Chevrolet Beat LS', 'Chevrolet Beat LT', 'Chevrolet Beat PS',\n",
       "        'Chevrolet Cruze LTZ', 'Chevrolet Enjoy', 'Chevrolet Enjoy 1.4',\n",
       "        'Chevrolet Sail 1.2', 'Chevrolet Sail UVA', 'Chevrolet Spark',\n",
       "        'Chevrolet Spark 1.0', 'Chevrolet Spark LS', 'Chevrolet Spark LT',\n",
       "        'Chevrolet Tavera LS', 'Chevrolet Tavera Neo', 'Datsun GO T',\n",
       "        'Datsun Go Plus', 'Datsun Redi GO', 'Fiat Linea Emotion',\n",
       "        'Fiat Petra ELX', 'Fiat Punto Emotion', 'Force Motors Force',\n",
       "        'Force Motors One', 'Ford EcoSport', 'Ford EcoSport Ambiente',\n",
       "        'Ford EcoSport Titanium', 'Ford EcoSport Trend',\n",
       "        'Ford Endeavor 4x4', 'Ford Fiesta', 'Ford Fiesta SXi', 'Ford Figo',\n",
       "        'Ford Figo Diesel', 'Ford Figo Duratorq', 'Ford Figo Petrol',\n",
       "        'Ford Fusion 1.4', 'Ford Ikon 1.3', 'Ford Ikon 1.6',\n",
       "        'Hindustan Motors Ambassador', 'Honda Accord', 'Honda Amaze',\n",
       "        'Honda Amaze 1.2', 'Honda Amaze 1.5', 'Honda Brio', 'Honda Brio V',\n",
       "        'Honda Brio VX', 'Honda City', 'Honda City 1.5', 'Honda City SV',\n",
       "        'Honda City VX', 'Honda City ZX', 'Honda Jazz S', 'Honda Jazz VX',\n",
       "        'Honda Mobilio', 'Honda Mobilio S', 'Honda WR V', 'Hyundai Accent',\n",
       "        'Hyundai Accent Executive', 'Hyundai Accent GLE',\n",
       "        'Hyundai Accent GLX', 'Hyundai Creta', 'Hyundai Creta 1.6',\n",
       "        'Hyundai Elantra 1.8', 'Hyundai Elantra SX', 'Hyundai Elite i20',\n",
       "        'Hyundai Eon', 'Hyundai Eon D', 'Hyundai Eon Era',\n",
       "        'Hyundai Eon Magna', 'Hyundai Eon Sportz', 'Hyundai Fluidic Verna',\n",
       "        'Hyundai Getz', 'Hyundai Getz GLE', 'Hyundai Getz Prime',\n",
       "        'Hyundai Grand i10', 'Hyundai Santro', 'Hyundai Santro AE',\n",
       "        'Hyundai Santro Xing', 'Hyundai Sonata Transform', 'Hyundai Verna',\n",
       "        'Hyundai Verna 1.4', 'Hyundai Verna 1.6', 'Hyundai Verna Fluidic',\n",
       "        'Hyundai Verna Transform', 'Hyundai Verna VGT',\n",
       "        'Hyundai Xcent Base', 'Hyundai Xcent SX', 'Hyundai i10',\n",
       "        'Hyundai i10 Era', 'Hyundai i10 Magna', 'Hyundai i10 Sportz',\n",
       "        'Hyundai i20', 'Hyundai i20 Active', 'Hyundai i20 Asta',\n",
       "        'Hyundai i20 Magna', 'Hyundai i20 Select', 'Hyundai i20 Sportz',\n",
       "        'Jaguar XE XE', 'Jaguar XF 2.2', 'Jeep Wrangler Unlimited',\n",
       "        'Land Rover Freelander', 'Mahindra Bolero DI',\n",
       "        'Mahindra Bolero Power', 'Mahindra Bolero SLE',\n",
       "        'Mahindra Jeep CL550', 'Mahindra Jeep MM', 'Mahindra KUV100',\n",
       "        'Mahindra KUV100 K8', 'Mahindra Logan', 'Mahindra Logan Diesel',\n",
       "        'Mahindra Quanto C4', 'Mahindra Quanto C8', 'Mahindra Scorpio',\n",
       "        'Mahindra Scorpio 2.6', 'Mahindra Scorpio LX',\n",
       "        'Mahindra Scorpio S10', 'Mahindra Scorpio S4',\n",
       "        'Mahindra Scorpio SLE', 'Mahindra Scorpio SLX',\n",
       "        'Mahindra Scorpio VLX', 'Mahindra Scorpio Vlx',\n",
       "        'Mahindra Scorpio W', 'Mahindra TUV300 T4', 'Mahindra TUV300 T8',\n",
       "        'Mahindra Thar CRDe', 'Mahindra XUV500', 'Mahindra XUV500 W10',\n",
       "        'Mahindra XUV500 W6', 'Mahindra XUV500 W8', 'Mahindra Xylo D2',\n",
       "        'Mahindra Xylo E4', 'Mahindra Xylo E8', 'Maruti Suzuki 800',\n",
       "        'Maruti Suzuki A', 'Maruti Suzuki Alto', 'Maruti Suzuki Baleno',\n",
       "        'Maruti Suzuki Celerio', 'Maruti Suzuki Ciaz',\n",
       "        'Maruti Suzuki Dzire', 'Maruti Suzuki Eeco',\n",
       "        'Maruti Suzuki Ertiga', 'Maruti Suzuki Esteem',\n",
       "        'Maruti Suzuki Estilo', 'Maruti Suzuki Maruti',\n",
       "        'Maruti Suzuki Omni', 'Maruti Suzuki Ritz', 'Maruti Suzuki S',\n",
       "        'Maruti Suzuki SX4', 'Maruti Suzuki Stingray',\n",
       "        'Maruti Suzuki Swift', 'Maruti Suzuki Versa',\n",
       "        'Maruti Suzuki Vitara', 'Maruti Suzuki Wagon', 'Maruti Suzuki Zen',\n",
       "        'Mercedes Benz A', 'Mercedes Benz B', 'Mercedes Benz C',\n",
       "        'Mercedes Benz GLA', 'Mini Cooper S', 'Mitsubishi Lancer 1.8',\n",
       "        'Mitsubishi Pajero Sport', 'Nissan Micra XL', 'Nissan Micra XV',\n",
       "        'Nissan Sunny', 'Nissan Sunny XL', 'Nissan Terrano XL',\n",
       "        'Nissan X Trail', 'Renault Duster', 'Renault Duster 110',\n",
       "        'Renault Duster 110PS', 'Renault Duster 85', 'Renault Duster 85PS',\n",
       "        'Renault Duster RxL', 'Renault Kwid', 'Renault Kwid 1.0',\n",
       "        'Renault Kwid RXT', 'Renault Lodgy 85', 'Renault Scala RxL',\n",
       "        'Skoda Fabia', 'Skoda Fabia 1.2L', 'Skoda Fabia Classic',\n",
       "        'Skoda Laura', 'Skoda Octavia Classic', 'Skoda Rapid Elegance',\n",
       "        'Skoda Superb 1.8', 'Skoda Yeti Ambition', 'Tata Aria Pleasure',\n",
       "        'Tata Bolt XM', 'Tata Indica', 'Tata Indica V2', 'Tata Indica eV2',\n",
       "        'Tata Indigo CS', 'Tata Indigo LS', 'Tata Indigo LX',\n",
       "        'Tata Indigo Marina', 'Tata Indigo eCS', 'Tata Manza',\n",
       "        'Tata Manza Aqua', 'Tata Manza Aura', 'Tata Manza ELAN',\n",
       "        'Tata Nano', 'Tata Nano Cx', 'Tata Nano GenX', 'Tata Nano LX',\n",
       "        'Tata Nano Lx', 'Tata Sumo Gold', 'Tata Sumo Grande',\n",
       "        'Tata Sumo Victa', 'Tata Tiago Revotorq', 'Tata Tiago Revotron',\n",
       "        'Tata Tigor Revotron', 'Tata Venture EX', 'Tata Vista Quadrajet',\n",
       "        'Tata Zest Quadrajet', 'Tata Zest XE', 'Tata Zest XM',\n",
       "        'Toyota Corolla', 'Toyota Corolla Altis', 'Toyota Corolla H2',\n",
       "        'Toyota Etios', 'Toyota Etios G', 'Toyota Etios GD',\n",
       "        'Toyota Etios Liva', 'Toyota Fortuner', 'Toyota Fortuner 3.0',\n",
       "        'Toyota Innova 2.0', 'Toyota Innova 2.5', 'Toyota Qualis',\n",
       "        'Volkswagen Jetta Comfortline', 'Volkswagen Jetta Highline',\n",
       "        'Volkswagen Passat Diesel', 'Volkswagen Polo',\n",
       "        'Volkswagen Polo Comfortline', 'Volkswagen Polo Highline',\n",
       "        'Volkswagen Polo Highline1.2L', 'Volkswagen Polo Trendline',\n",
       "        'Volkswagen Vento Comfortline', 'Volkswagen Vento Highline',\n",
       "        'Volkswagen Vento Konekt', 'Volvo S80 Summum'], dtype=object),\n",
       " array(['Audi', 'BMW', 'Chevrolet', 'Datsun', 'Fiat', 'Force', 'Ford',\n",
       "        'Hindustan', 'Honda', 'Hyundai', 'Jaguar', 'Jeep', 'Land',\n",
       "        'Mahindra', 'Maruti', 'Mercedes', 'Mini', 'Mitsubishi', 'Nissan',\n",
       "        'Renault', 'Skoda', 'Tata', 'Toyota', 'Volkswagen', 'Volvo'],\n",
       "       dtype=object),\n",
       " array(['Diesel', 'LPG', 'Petrol'], dtype=object)]"
      ]
     },
     "execution_count": 156,
     "metadata": {},
     "output_type": "execute_result"
    }
   ],
   "source": [
    "ohe.categories_"
   ]
  },
  {
   "cell_type": "markdown",
   "metadata": {},
   "source": [
    "#### Creating a column transformer to transform categorical columns"
   ]
  },
  {
   "cell_type": "code",
   "execution_count": 144,
   "metadata": {},
   "outputs": [],
   "source": [
    "column_trans=make_column_transformer((OneHotEncoder(categories=ohe.categories_),['name','company','fuel_type']),\n",
    "                                    remainder='passthrough')"
   ]
  },
  {
   "cell_type": "code",
   "execution_count": 145,
   "metadata": {},
   "outputs": [
    {
     "data": {
      "text/html": [
       "<style>#sk-container-id-2 {color: black;background-color: white;}#sk-container-id-2 pre{padding: 0;}#sk-container-id-2 div.sk-toggleable {background-color: white;}#sk-container-id-2 label.sk-toggleable__label {cursor: pointer;display: block;width: 100%;margin-bottom: 0;padding: 0.3em;box-sizing: border-box;text-align: center;}#sk-container-id-2 label.sk-toggleable__label-arrow:before {content: \"▸\";float: left;margin-right: 0.25em;color: #696969;}#sk-container-id-2 label.sk-toggleable__label-arrow:hover:before {color: black;}#sk-container-id-2 div.sk-estimator:hover label.sk-toggleable__label-arrow:before {color: black;}#sk-container-id-2 div.sk-toggleable__content {max-height: 0;max-width: 0;overflow: hidden;text-align: left;background-color: #f0f8ff;}#sk-container-id-2 div.sk-toggleable__content pre {margin: 0.2em;color: black;border-radius: 0.25em;background-color: #f0f8ff;}#sk-container-id-2 input.sk-toggleable__control:checked~div.sk-toggleable__content {max-height: 200px;max-width: 100%;overflow: auto;}#sk-container-id-2 input.sk-toggleable__control:checked~label.sk-toggleable__label-arrow:before {content: \"▾\";}#sk-container-id-2 div.sk-estimator input.sk-toggleable__control:checked~label.sk-toggleable__label {background-color: #d4ebff;}#sk-container-id-2 div.sk-label input.sk-toggleable__control:checked~label.sk-toggleable__label {background-color: #d4ebff;}#sk-container-id-2 input.sk-hidden--visually {border: 0;clip: rect(1px 1px 1px 1px);clip: rect(1px, 1px, 1px, 1px);height: 1px;margin: -1px;overflow: hidden;padding: 0;position: absolute;width: 1px;}#sk-container-id-2 div.sk-estimator {font-family: monospace;background-color: #f0f8ff;border: 1px dotted black;border-radius: 0.25em;box-sizing: border-box;margin-bottom: 0.5em;}#sk-container-id-2 div.sk-estimator:hover {background-color: #d4ebff;}#sk-container-id-2 div.sk-parallel-item::after {content: \"\";width: 100%;border-bottom: 1px solid gray;flex-grow: 1;}#sk-container-id-2 div.sk-label:hover label.sk-toggleable__label {background-color: #d4ebff;}#sk-container-id-2 div.sk-serial::before {content: \"\";position: absolute;border-left: 1px solid gray;box-sizing: border-box;top: 0;bottom: 0;left: 50%;z-index: 0;}#sk-container-id-2 div.sk-serial {display: flex;flex-direction: column;align-items: center;background-color: white;padding-right: 0.2em;padding-left: 0.2em;position: relative;}#sk-container-id-2 div.sk-item {position: relative;z-index: 1;}#sk-container-id-2 div.sk-parallel {display: flex;align-items: stretch;justify-content: center;background-color: white;position: relative;}#sk-container-id-2 div.sk-item::before, #sk-container-id-2 div.sk-parallel-item::before {content: \"\";position: absolute;border-left: 1px solid gray;box-sizing: border-box;top: 0;bottom: 0;left: 50%;z-index: -1;}#sk-container-id-2 div.sk-parallel-item {display: flex;flex-direction: column;z-index: 1;position: relative;background-color: white;}#sk-container-id-2 div.sk-parallel-item:first-child::after {align-self: flex-end;width: 50%;}#sk-container-id-2 div.sk-parallel-item:last-child::after {align-self: flex-start;width: 50%;}#sk-container-id-2 div.sk-parallel-item:only-child::after {width: 0;}#sk-container-id-2 div.sk-dashed-wrapped {border: 1px dashed gray;margin: 0 0.4em 0.5em 0.4em;box-sizing: border-box;padding-bottom: 0.4em;background-color: white;}#sk-container-id-2 div.sk-label label {font-family: monospace;font-weight: bold;display: inline-block;line-height: 1.2em;}#sk-container-id-2 div.sk-label-container {text-align: center;}#sk-container-id-2 div.sk-container {/* jupyter's `normalize.less` sets `[hidden] { display: none; }` but bootstrap.min.css set `[hidden] { display: none !important; }` so we also need the `!important` here to be able to override the default hidden behavior on the sphinx rendered scikit-learn.org. See: https://github.com/scikit-learn/scikit-learn/issues/21755 */display: inline-block !important;position: relative;}#sk-container-id-2 div.sk-text-repr-fallback {display: none;}</style><div id=\"sk-container-id-2\" class=\"sk-top-container\"><div class=\"sk-text-repr-fallback\"><pre>ColumnTransformer(remainder=&#x27;passthrough&#x27;,\n",
       "                  transformers=[(&#x27;onehotencoder&#x27;,\n",
       "                                 OneHotEncoder(categories=[array([&#x27;Audi A3 Cabriolet&#x27;, &#x27;Audi A4 1.8&#x27;, &#x27;Audi A4 2.0&#x27;, &#x27;Audi A6 2.0&#x27;,\n",
       "       &#x27;Audi A8&#x27;, &#x27;Audi Q3 2.0&#x27;, &#x27;Audi Q5 2.0&#x27;, &#x27;Audi Q7&#x27;, &#x27;BMW 3 Series&#x27;,\n",
       "       &#x27;BMW 5 Series&#x27;, &#x27;BMW 7 Series&#x27;, &#x27;BMW X1&#x27;, &#x27;BMW X1 sDrive20d&#x27;,\n",
       "       &#x27;BMW X1 xDrive20d&#x27;, &#x27;Chevrolet Beat&#x27;, &#x27;Chevrolet Beat Diesel&#x27;,\n",
       "       &#x27;Chevrolet Beat LS&#x27;, &#x27;Chevrolet B...\n",
       "       &#x27;Volkswagen Vento Konekt&#x27;, &#x27;Volvo S80 Summum&#x27;], dtype=object),\n",
       "                                                           array([&#x27;Audi&#x27;, &#x27;BMW&#x27;, &#x27;Chevrolet&#x27;, &#x27;Datsun&#x27;, &#x27;Fiat&#x27;, &#x27;Force&#x27;, &#x27;Ford&#x27;,\n",
       "       &#x27;Hindustan&#x27;, &#x27;Honda&#x27;, &#x27;Hyundai&#x27;, &#x27;Jaguar&#x27;, &#x27;Jeep&#x27;, &#x27;Land&#x27;,\n",
       "       &#x27;Mahindra&#x27;, &#x27;Maruti&#x27;, &#x27;Mercedes&#x27;, &#x27;Mini&#x27;, &#x27;Mitsubishi&#x27;, &#x27;Nissan&#x27;,\n",
       "       &#x27;Renault&#x27;, &#x27;Skoda&#x27;, &#x27;Tata&#x27;, &#x27;Toyota&#x27;, &#x27;Volkswagen&#x27;, &#x27;Volvo&#x27;],\n",
       "      dtype=object),\n",
       "                                                           array([&#x27;Diesel&#x27;, &#x27;LPG&#x27;, &#x27;Petrol&#x27;], dtype=object)]),\n",
       "                                 [&#x27;name&#x27;, &#x27;company&#x27;, &#x27;fuel_type&#x27;])])</pre><b>In a Jupyter environment, please rerun this cell to show the HTML representation or trust the notebook. <br />On GitHub, the HTML representation is unable to render, please try loading this page with nbviewer.org.</b></div><div class=\"sk-container\" hidden><div class=\"sk-item sk-dashed-wrapped\"><div class=\"sk-label-container\"><div class=\"sk-label sk-toggleable\"><input class=\"sk-toggleable__control sk-hidden--visually\" id=\"sk-estimator-id-2\" type=\"checkbox\" ><label for=\"sk-estimator-id-2\" class=\"sk-toggleable__label sk-toggleable__label-arrow\">ColumnTransformer</label><div class=\"sk-toggleable__content\"><pre>ColumnTransformer(remainder=&#x27;passthrough&#x27;,\n",
       "                  transformers=[(&#x27;onehotencoder&#x27;,\n",
       "                                 OneHotEncoder(categories=[array([&#x27;Audi A3 Cabriolet&#x27;, &#x27;Audi A4 1.8&#x27;, &#x27;Audi A4 2.0&#x27;, &#x27;Audi A6 2.0&#x27;,\n",
       "       &#x27;Audi A8&#x27;, &#x27;Audi Q3 2.0&#x27;, &#x27;Audi Q5 2.0&#x27;, &#x27;Audi Q7&#x27;, &#x27;BMW 3 Series&#x27;,\n",
       "       &#x27;BMW 5 Series&#x27;, &#x27;BMW 7 Series&#x27;, &#x27;BMW X1&#x27;, &#x27;BMW X1 sDrive20d&#x27;,\n",
       "       &#x27;BMW X1 xDrive20d&#x27;, &#x27;Chevrolet Beat&#x27;, &#x27;Chevrolet Beat Diesel&#x27;,\n",
       "       &#x27;Chevrolet Beat LS&#x27;, &#x27;Chevrolet B...\n",
       "       &#x27;Volkswagen Vento Konekt&#x27;, &#x27;Volvo S80 Summum&#x27;], dtype=object),\n",
       "                                                           array([&#x27;Audi&#x27;, &#x27;BMW&#x27;, &#x27;Chevrolet&#x27;, &#x27;Datsun&#x27;, &#x27;Fiat&#x27;, &#x27;Force&#x27;, &#x27;Ford&#x27;,\n",
       "       &#x27;Hindustan&#x27;, &#x27;Honda&#x27;, &#x27;Hyundai&#x27;, &#x27;Jaguar&#x27;, &#x27;Jeep&#x27;, &#x27;Land&#x27;,\n",
       "       &#x27;Mahindra&#x27;, &#x27;Maruti&#x27;, &#x27;Mercedes&#x27;, &#x27;Mini&#x27;, &#x27;Mitsubishi&#x27;, &#x27;Nissan&#x27;,\n",
       "       &#x27;Renault&#x27;, &#x27;Skoda&#x27;, &#x27;Tata&#x27;, &#x27;Toyota&#x27;, &#x27;Volkswagen&#x27;, &#x27;Volvo&#x27;],\n",
       "      dtype=object),\n",
       "                                                           array([&#x27;Diesel&#x27;, &#x27;LPG&#x27;, &#x27;Petrol&#x27;], dtype=object)]),\n",
       "                                 [&#x27;name&#x27;, &#x27;company&#x27;, &#x27;fuel_type&#x27;])])</pre></div></div></div><div class=\"sk-parallel\"><div class=\"sk-parallel-item\"><div class=\"sk-item\"><div class=\"sk-label-container\"><div class=\"sk-label sk-toggleable\"><input class=\"sk-toggleable__control sk-hidden--visually\" id=\"sk-estimator-id-3\" type=\"checkbox\" ><label for=\"sk-estimator-id-3\" class=\"sk-toggleable__label sk-toggleable__label-arrow\">onehotencoder</label><div class=\"sk-toggleable__content\"><pre>[&#x27;name&#x27;, &#x27;company&#x27;, &#x27;fuel_type&#x27;]</pre></div></div></div><div class=\"sk-serial\"><div class=\"sk-item\"><div class=\"sk-estimator sk-toggleable\"><input class=\"sk-toggleable__control sk-hidden--visually\" id=\"sk-estimator-id-4\" type=\"checkbox\" ><label for=\"sk-estimator-id-4\" class=\"sk-toggleable__label sk-toggleable__label-arrow\">OneHotEncoder</label><div class=\"sk-toggleable__content\"><pre>OneHotEncoder(categories=[array([&#x27;Audi A3 Cabriolet&#x27;, &#x27;Audi A4 1.8&#x27;, &#x27;Audi A4 2.0&#x27;, &#x27;Audi A6 2.0&#x27;,\n",
       "       &#x27;Audi A8&#x27;, &#x27;Audi Q3 2.0&#x27;, &#x27;Audi Q5 2.0&#x27;, &#x27;Audi Q7&#x27;, &#x27;BMW 3 Series&#x27;,\n",
       "       &#x27;BMW 5 Series&#x27;, &#x27;BMW 7 Series&#x27;, &#x27;BMW X1&#x27;, &#x27;BMW X1 sDrive20d&#x27;,\n",
       "       &#x27;BMW X1 xDrive20d&#x27;, &#x27;Chevrolet Beat&#x27;, &#x27;Chevrolet Beat Diesel&#x27;,\n",
       "       &#x27;Chevrolet Beat LS&#x27;, &#x27;Chevrolet Beat LT&#x27;, &#x27;Chevrolet Beat PS&#x27;,\n",
       "       &#x27;Chevrolet Cruze LTZ&#x27;, &#x27;Chevrolet Enjoy&#x27;, &#x27;Chevrolet E...\n",
       "       &#x27;Volkswagen Vento Comfortline&#x27;, &#x27;Volkswagen Vento Highline&#x27;,\n",
       "       &#x27;Volkswagen Vento Konekt&#x27;, &#x27;Volvo S80 Summum&#x27;], dtype=object),\n",
       "                          array([&#x27;Audi&#x27;, &#x27;BMW&#x27;, &#x27;Chevrolet&#x27;, &#x27;Datsun&#x27;, &#x27;Fiat&#x27;, &#x27;Force&#x27;, &#x27;Ford&#x27;,\n",
       "       &#x27;Hindustan&#x27;, &#x27;Honda&#x27;, &#x27;Hyundai&#x27;, &#x27;Jaguar&#x27;, &#x27;Jeep&#x27;, &#x27;Land&#x27;,\n",
       "       &#x27;Mahindra&#x27;, &#x27;Maruti&#x27;, &#x27;Mercedes&#x27;, &#x27;Mini&#x27;, &#x27;Mitsubishi&#x27;, &#x27;Nissan&#x27;,\n",
       "       &#x27;Renault&#x27;, &#x27;Skoda&#x27;, &#x27;Tata&#x27;, &#x27;Toyota&#x27;, &#x27;Volkswagen&#x27;, &#x27;Volvo&#x27;],\n",
       "      dtype=object),\n",
       "                          array([&#x27;Diesel&#x27;, &#x27;LPG&#x27;, &#x27;Petrol&#x27;], dtype=object)])</pre></div></div></div></div></div></div><div class=\"sk-parallel-item\"><div class=\"sk-item\"><div class=\"sk-label-container\"><div class=\"sk-label sk-toggleable\"><input class=\"sk-toggleable__control sk-hidden--visually\" id=\"sk-estimator-id-5\" type=\"checkbox\" ><label for=\"sk-estimator-id-5\" class=\"sk-toggleable__label sk-toggleable__label-arrow\">remainder</label><div class=\"sk-toggleable__content\"><pre></pre></div></div></div><div class=\"sk-serial\"><div class=\"sk-item\"><div class=\"sk-estimator sk-toggleable\"><input class=\"sk-toggleable__control sk-hidden--visually\" id=\"sk-estimator-id-6\" type=\"checkbox\" ><label for=\"sk-estimator-id-6\" class=\"sk-toggleable__label sk-toggleable__label-arrow\">passthrough</label><div class=\"sk-toggleable__content\"><pre>passthrough</pre></div></div></div></div></div></div></div></div></div></div>"
      ],
      "text/plain": [
       "ColumnTransformer(remainder='passthrough',\n",
       "                  transformers=[('onehotencoder',\n",
       "                                 OneHotEncoder(categories=[array(['Audi A3 Cabriolet', 'Audi A4 1.8', 'Audi A4 2.0', 'Audi A6 2.0',\n",
       "       'Audi A8', 'Audi Q3 2.0', 'Audi Q5 2.0', 'Audi Q7', 'BMW 3 Series',\n",
       "       'BMW 5 Series', 'BMW 7 Series', 'BMW X1', 'BMW X1 sDrive20d',\n",
       "       'BMW X1 xDrive20d', 'Chevrolet Beat', 'Chevrolet Beat Diesel',\n",
       "       'Chevrolet Beat LS', 'Chevrolet B...\n",
       "       'Volkswagen Vento Konekt', 'Volvo S80 Summum'], dtype=object),\n",
       "                                                           array(['Audi', 'BMW', 'Chevrolet', 'Datsun', 'Fiat', 'Force', 'Ford',\n",
       "       'Hindustan', 'Honda', 'Hyundai', 'Jaguar', 'Jeep', 'Land',\n",
       "       'Mahindra', 'Maruti', 'Mercedes', 'Mini', 'Mitsubishi', 'Nissan',\n",
       "       'Renault', 'Skoda', 'Tata', 'Toyota', 'Volkswagen', 'Volvo'],\n",
       "      dtype=object),\n",
       "                                                           array(['Diesel', 'LPG', 'Petrol'], dtype=object)]),\n",
       "                                 ['name', 'company', 'fuel_type'])])"
      ]
     },
     "execution_count": 145,
     "metadata": {},
     "output_type": "execute_result"
    }
   ],
   "source": [
    "column_trans"
   ]
  },
  {
   "cell_type": "markdown",
   "metadata": {},
   "source": [
    "#### Linear Regression Model"
   ]
  },
  {
   "cell_type": "code",
   "execution_count": 146,
   "metadata": {},
   "outputs": [],
   "source": [
    "lr=LinearRegression()"
   ]
  },
  {
   "cell_type": "markdown",
   "metadata": {},
   "source": [
    "#### Making a pipeline"
   ]
  },
  {
   "cell_type": "code",
   "execution_count": 55,
   "metadata": {},
   "outputs": [],
   "source": [
    "pipe=make_pipeline(column_trans,lr)"
   ]
  },
  {
   "cell_type": "markdown",
   "metadata": {},
   "source": [
    "#### Fitting the  model"
   ]
  },
  {
   "cell_type": "code",
   "execution_count": 59,
   "metadata": {
    "scrolled": true
   },
   "outputs": [
    {
     "data": {
      "text/plain": [
       "Pipeline(steps=[('columntransformer',\n",
       "                 ColumnTransformer(remainder='passthrough',\n",
       "                                   transformers=[('onehotencoder',\n",
       "                                                  OneHotEncoder(categories=[array(['Audi A3 Cabriolet', 'Audi A4 1.8', 'Audi A4 2.0', 'Audi A6 2.0',\n",
       "       'Audi A8', 'Audi Q3 2.0', 'Audi Q5 2.0', 'Audi Q7', 'BMW 3 Series',\n",
       "       'BMW 5 Series', 'BMW 7 Series', 'BMW X1', 'BMW X1 sDrive20d',\n",
       "       'BMW X1 xDrive20d', 'Chevrolet Beat', 'Chevrolet Beat...\n",
       "                                                                            array(['Audi', 'BMW', 'Chevrolet', 'Datsun', 'Fiat', 'Force', 'Ford',\n",
       "       'Hindustan', 'Honda', 'Hyundai', 'Jaguar', 'Jeep', 'Land',\n",
       "       'Mahindra', 'Maruti', 'Mercedes', 'Mini', 'Mitsubishi', 'Nissan',\n",
       "       'Renault', 'Skoda', 'Tata', 'Toyota', 'Volkswagen', 'Volvo'],\n",
       "      dtype=object),\n",
       "                                                                            array(['Diesel', 'LPG', 'Petrol'], dtype=object)]),\n",
       "                                                  ['name', 'company',\n",
       "                                                   'fuel_type'])])),\n",
       "                ('linearregression', LinearRegression())])"
      ]
     },
     "execution_count": 59,
     "metadata": {},
     "output_type": "execute_result"
    }
   ],
   "source": [
    "pipe.fit(X_train,y_train)"
   ]
  },
  {
   "cell_type": "code",
   "execution_count": 60,
   "metadata": {},
   "outputs": [],
   "source": [
    "y_pred=pipe.predict(X_test)"
   ]
  },
  {
   "cell_type": "markdown",
   "metadata": {},
   "source": [
    "#### Checking R2 Score"
   ]
  },
  {
   "cell_type": "code",
   "execution_count": 61,
   "metadata": {},
   "outputs": [
    {
     "data": {
      "text/plain": [
       "0.7627456237676113"
      ]
     },
     "execution_count": 61,
     "metadata": {},
     "output_type": "execute_result"
    }
   ],
   "source": [
    "r2_score(y_test,y_pred)"
   ]
  },
  {
   "cell_type": "markdown",
   "metadata": {},
   "source": [
    "#### Finding the model with a random state of TrainTestSplit where the model was found to give almost 0.92 as r2_score"
   ]
  },
  {
   "cell_type": "code",
   "execution_count": 62,
   "metadata": {},
   "outputs": [],
   "source": [
    "scores=[]\n",
    "for i in range(1000):\n",
    "    X_train,X_test,y_train,y_test=train_test_split(X,y,test_size=0.1,random_state=i)\n",
    "    lr=LinearRegression()\n",
    "    pipe=make_pipeline(column_trans,lr)\n",
    "    pipe.fit(X_train,y_train)\n",
    "    y_pred=pipe.predict(X_test)\n",
    "    scores.append(r2_score(y_test,y_pred))"
   ]
  },
  {
   "cell_type": "code",
   "execution_count": 63,
   "metadata": {},
   "outputs": [
    {
     "data": {
      "text/plain": [
       "655"
      ]
     },
     "execution_count": 63,
     "metadata": {},
     "output_type": "execute_result"
    }
   ],
   "source": [
    "np.argmax(scores)"
   ]
  },
  {
   "cell_type": "code",
   "execution_count": 64,
   "metadata": {},
   "outputs": [
    {
     "data": {
      "text/plain": [
       "0.920088412025344"
      ]
     },
     "execution_count": 64,
     "metadata": {},
     "output_type": "execute_result"
    }
   ],
   "source": [
    "scores[np.argmax(scores)]"
   ]
  },
  {
   "cell_type": "code",
   "execution_count": 65,
   "metadata": {},
   "outputs": [
    {
     "data": {
      "text/plain": [
       "array([400707.28215338])"
      ]
     },
     "execution_count": 65,
     "metadata": {},
     "output_type": "execute_result"
    }
   ],
   "source": [
    "pipe.predict(pd.DataFrame(columns=X_test.columns,data=np.array(['Maruti Suzuki Swift','Maruti',2019,100,'Petrol']).reshape(1,5)))"
   ]
  },
  {
   "cell_type": "markdown",
   "metadata": {},
   "source": [
    "#### The best model is found at a certain random state "
   ]
  },
  {
   "cell_type": "code",
   "execution_count": 67,
   "metadata": {},
   "outputs": [
    {
     "data": {
      "text/plain": [
       "0.920088412025344"
      ]
     },
     "execution_count": 67,
     "metadata": {},
     "output_type": "execute_result"
    }
   ],
   "source": [
    "X_train,X_test,y_train,y_test=train_test_split(X,y,test_size=0.1,random_state=np.argmax(scores))\n",
    "lr=LinearRegression()\n",
    "pipe=make_pipeline(column_trans,lr)\n",
    "pipe.fit(X_train,y_train)\n",
    "y_pred=pipe.predict(X_test)\n",
    "r2_score(y_test,y_pred)"
   ]
  },
  {
   "cell_type": "code",
   "execution_count": 68,
   "metadata": {},
   "outputs": [],
   "source": [
    "import pickle"
   ]
  },
  {
   "cell_type": "code",
   "execution_count": 69,
   "metadata": {},
   "outputs": [],
   "source": [
    "pickle.dump(pipe,open('LinearRegressionModel.pkl','wb'))"
   ]
  },
  {
   "cell_type": "code",
   "execution_count": 72,
   "metadata": {},
   "outputs": [
    {
     "data": {
      "text/plain": [
       "array([416109.14071676])"
      ]
     },
     "execution_count": 72,
     "metadata": {},
     "output_type": "execute_result"
    }
   ],
   "source": [
    "pipe.predict(pd.DataFrame(columns=['name','company','year','kms_driven','fuel_type'],data=np.array(['Maruti Suzuki Swift','Maruti',2019,100,'Petrol']).reshape(1,5)))"
   ]
  },
  {
   "cell_type": "code",
   "execution_count": 73,
   "metadata": {},
   "outputs": [
    {
     "data": {
      "text/plain": [
       "array(['Audi A3 Cabriolet', 'Audi A4 1.8', 'Audi A4 2.0', 'Audi A6 2.0',\n",
       "       'Audi A8', 'Audi Q3 2.0', 'Audi Q5 2.0', 'Audi Q7', 'BMW 3 Series',\n",
       "       'BMW 5 Series', 'BMW 7 Series', 'BMW X1', 'BMW X1 sDrive20d',\n",
       "       'BMW X1 xDrive20d', 'Chevrolet Beat', 'Chevrolet Beat Diesel',\n",
       "       'Chevrolet Beat LS', 'Chevrolet Beat LT', 'Chevrolet Beat PS',\n",
       "       'Chevrolet Cruze LTZ', 'Chevrolet Enjoy', 'Chevrolet Enjoy 1.4',\n",
       "       'Chevrolet Sail 1.2', 'Chevrolet Sail UVA', 'Chevrolet Spark',\n",
       "       'Chevrolet Spark 1.0', 'Chevrolet Spark LS', 'Chevrolet Spark LT',\n",
       "       'Chevrolet Tavera LS', 'Chevrolet Tavera Neo', 'Datsun GO T',\n",
       "       'Datsun Go Plus', 'Datsun Redi GO', 'Fiat Linea Emotion',\n",
       "       'Fiat Petra ELX', 'Fiat Punto Emotion', 'Force Motors Force',\n",
       "       'Force Motors One', 'Ford EcoSport', 'Ford EcoSport Ambiente',\n",
       "       'Ford EcoSport Titanium', 'Ford EcoSport Trend',\n",
       "       'Ford Endeavor 4x4', 'Ford Fiesta', 'Ford Fiesta SXi', 'Ford Figo',\n",
       "       'Ford Figo Diesel', 'Ford Figo Duratorq', 'Ford Figo Petrol',\n",
       "       'Ford Fusion 1.4', 'Ford Ikon 1.3', 'Ford Ikon 1.6',\n",
       "       'Hindustan Motors Ambassador', 'Honda Accord', 'Honda Amaze',\n",
       "       'Honda Amaze 1.2', 'Honda Amaze 1.5', 'Honda Brio', 'Honda Brio V',\n",
       "       'Honda Brio VX', 'Honda City', 'Honda City 1.5', 'Honda City SV',\n",
       "       'Honda City VX', 'Honda City ZX', 'Honda Jazz S', 'Honda Jazz VX',\n",
       "       'Honda Mobilio', 'Honda Mobilio S', 'Honda WR V', 'Hyundai Accent',\n",
       "       'Hyundai Accent Executive', 'Hyundai Accent GLE',\n",
       "       'Hyundai Accent GLX', 'Hyundai Creta', 'Hyundai Creta 1.6',\n",
       "       'Hyundai Elantra 1.8', 'Hyundai Elantra SX', 'Hyundai Elite i20',\n",
       "       'Hyundai Eon', 'Hyundai Eon D', 'Hyundai Eon Era',\n",
       "       'Hyundai Eon Magna', 'Hyundai Eon Sportz', 'Hyundai Fluidic Verna',\n",
       "       'Hyundai Getz', 'Hyundai Getz GLE', 'Hyundai Getz Prime',\n",
       "       'Hyundai Grand i10', 'Hyundai Santro', 'Hyundai Santro AE',\n",
       "       'Hyundai Santro Xing', 'Hyundai Sonata Transform', 'Hyundai Verna',\n",
       "       'Hyundai Verna 1.4', 'Hyundai Verna 1.6', 'Hyundai Verna Fluidic',\n",
       "       'Hyundai Verna Transform', 'Hyundai Verna VGT',\n",
       "       'Hyundai Xcent Base', 'Hyundai Xcent SX', 'Hyundai i10',\n",
       "       'Hyundai i10 Era', 'Hyundai i10 Magna', 'Hyundai i10 Sportz',\n",
       "       'Hyundai i20', 'Hyundai i20 Active', 'Hyundai i20 Asta',\n",
       "       'Hyundai i20 Magna', 'Hyundai i20 Select', 'Hyundai i20 Sportz',\n",
       "       'Jaguar XE XE', 'Jaguar XF 2.2', 'Jeep Wrangler Unlimited',\n",
       "       'Land Rover Freelander', 'Mahindra Bolero DI',\n",
       "       'Mahindra Bolero Power', 'Mahindra Bolero SLE',\n",
       "       'Mahindra Jeep CL550', 'Mahindra Jeep MM', 'Mahindra KUV100',\n",
       "       'Mahindra KUV100 K8', 'Mahindra Logan', 'Mahindra Logan Diesel',\n",
       "       'Mahindra Quanto C4', 'Mahindra Quanto C8', 'Mahindra Scorpio',\n",
       "       'Mahindra Scorpio 2.6', 'Mahindra Scorpio LX',\n",
       "       'Mahindra Scorpio S10', 'Mahindra Scorpio S4',\n",
       "       'Mahindra Scorpio SLE', 'Mahindra Scorpio SLX',\n",
       "       'Mahindra Scorpio VLX', 'Mahindra Scorpio Vlx',\n",
       "       'Mahindra Scorpio W', 'Mahindra TUV300 T4', 'Mahindra TUV300 T8',\n",
       "       'Mahindra Thar CRDe', 'Mahindra XUV500', 'Mahindra XUV500 W10',\n",
       "       'Mahindra XUV500 W6', 'Mahindra XUV500 W8', 'Mahindra Xylo D2',\n",
       "       'Mahindra Xylo E4', 'Mahindra Xylo E8', 'Maruti Suzuki 800',\n",
       "       'Maruti Suzuki A', 'Maruti Suzuki Alto', 'Maruti Suzuki Baleno',\n",
       "       'Maruti Suzuki Celerio', 'Maruti Suzuki Ciaz',\n",
       "       'Maruti Suzuki Dzire', 'Maruti Suzuki Eeco',\n",
       "       'Maruti Suzuki Ertiga', 'Maruti Suzuki Esteem',\n",
       "       'Maruti Suzuki Estilo', 'Maruti Suzuki Maruti',\n",
       "       'Maruti Suzuki Omni', 'Maruti Suzuki Ritz', 'Maruti Suzuki S',\n",
       "       'Maruti Suzuki SX4', 'Maruti Suzuki Stingray',\n",
       "       'Maruti Suzuki Swift', 'Maruti Suzuki Versa',\n",
       "       'Maruti Suzuki Vitara', 'Maruti Suzuki Wagon', 'Maruti Suzuki Zen',\n",
       "       'Mercedes Benz A', 'Mercedes Benz B', 'Mercedes Benz C',\n",
       "       'Mercedes Benz GLA', 'Mini Cooper S', 'Mitsubishi Lancer 1.8',\n",
       "       'Mitsubishi Pajero Sport', 'Nissan Micra XL', 'Nissan Micra XV',\n",
       "       'Nissan Sunny', 'Nissan Sunny XL', 'Nissan Terrano XL',\n",
       "       'Nissan X Trail', 'Renault Duster', 'Renault Duster 110',\n",
       "       'Renault Duster 110PS', 'Renault Duster 85', 'Renault Duster 85PS',\n",
       "       'Renault Duster RxL', 'Renault Kwid', 'Renault Kwid 1.0',\n",
       "       'Renault Kwid RXT', 'Renault Lodgy 85', 'Renault Scala RxL',\n",
       "       'Skoda Fabia', 'Skoda Fabia 1.2L', 'Skoda Fabia Classic',\n",
       "       'Skoda Laura', 'Skoda Octavia Classic', 'Skoda Rapid Elegance',\n",
       "       'Skoda Superb 1.8', 'Skoda Yeti Ambition', 'Tata Aria Pleasure',\n",
       "       'Tata Bolt XM', 'Tata Indica', 'Tata Indica V2', 'Tata Indica eV2',\n",
       "       'Tata Indigo CS', 'Tata Indigo LS', 'Tata Indigo LX',\n",
       "       'Tata Indigo Marina', 'Tata Indigo eCS', 'Tata Manza',\n",
       "       'Tata Manza Aqua', 'Tata Manza Aura', 'Tata Manza ELAN',\n",
       "       'Tata Nano', 'Tata Nano Cx', 'Tata Nano GenX', 'Tata Nano LX',\n",
       "       'Tata Nano Lx', 'Tata Sumo Gold', 'Tata Sumo Grande',\n",
       "       'Tata Sumo Victa', 'Tata Tiago Revotorq', 'Tata Tiago Revotron',\n",
       "       'Tata Tigor Revotron', 'Tata Venture EX', 'Tata Vista Quadrajet',\n",
       "       'Tata Zest Quadrajet', 'Tata Zest XE', 'Tata Zest XM',\n",
       "       'Toyota Corolla', 'Toyota Corolla Altis', 'Toyota Corolla H2',\n",
       "       'Toyota Etios', 'Toyota Etios G', 'Toyota Etios GD',\n",
       "       'Toyota Etios Liva', 'Toyota Fortuner', 'Toyota Fortuner 3.0',\n",
       "       'Toyota Innova 2.0', 'Toyota Innova 2.5', 'Toyota Qualis',\n",
       "       'Volkswagen Jetta Comfortline', 'Volkswagen Jetta Highline',\n",
       "       'Volkswagen Passat Diesel', 'Volkswagen Polo',\n",
       "       'Volkswagen Polo Comfortline', 'Volkswagen Polo Highline',\n",
       "       'Volkswagen Polo Highline1.2L', 'Volkswagen Polo Trendline',\n",
       "       'Volkswagen Vento Comfortline', 'Volkswagen Vento Highline',\n",
       "       'Volkswagen Vento Konekt', 'Volvo S80 Summum'], dtype=object)"
      ]
     },
     "execution_count": 73,
     "metadata": {},
     "output_type": "execute_result"
    }
   ],
   "source": [
    "pipe.steps[0][1].transformers[0][1].categories[0]"
   ]
  },
  {
   "cell_type": "code",
   "execution_count": null,
   "metadata": {},
   "outputs": [],
   "source": []
  }
 ],
 "metadata": {
  "kernelspec": {
   "display_name": "Python 3 (ipykernel)",
   "language": "python",
   "name": "python3"
  },
  "language_info": {
   "codemirror_mode": {
    "name": "ipython",
    "version": 3
   },
   "file_extension": ".py",
   "mimetype": "text/x-python",
   "name": "python",
   "nbconvert_exporter": "python",
   "pygments_lexer": "ipython3",
   "version": "3.8.8"
  }
 },
 "nbformat": 4,
 "nbformat_minor": 2
}
